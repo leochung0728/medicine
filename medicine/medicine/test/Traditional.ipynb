{
 "cells": [
  {
   "cell_type": "code",
   "execution_count": 1,
   "metadata": {
    "collapsed": true
   },
   "outputs": [],
   "source": [
    "import re\n",
    "import pandas as pd"
   ]
  },
  {
   "cell_type": "code",
   "execution_count": 2,
   "metadata": {
    "scrolled": true
   },
   "outputs": [],
   "source": [
    "content = ''\n",
    "with open('./data/本草綱目.txt', 'r', encoding='utf8') as file:\n",
    "    for line in file:\n",
    "        content += line\n",
    "finds = re.findall(r'    \\n(?:(^\\S.*)(?:\\n    \\n))?(^\\S.*)\\n((?:    .*\\n?)+)(?=    \\n?)', content, re.M)\n",
    "df = pd.DataFrame(columns=['目錄', '標題', '內文'])\n",
    "\n",
    "for find in finds:\n",
    "    df_row = dict((key,'') for key in df.columns)\n",
    "    df_row['目錄'] = '\\n'.join([t.strip() for t in find[0].strip().split('\\n')])\n",
    "    df_row['標題'] = '\\n'.join([t.strip() for t in find[1].strip().split('\\n')])\n",
    "    df_row['內文'] = '\\n'.join([t.strip() for t in find[2].strip().split('\\n')])\n",
    "    df = df.append(df_row, ignore_index=True)"
   ]
  },
  {
   "cell_type": "code",
   "execution_count": null,
   "metadata": {},
   "outputs": [],
   "source": [
    "df[df.iloc[:,0]==''].index"
   ]
  },
  {
   "cell_type": "code",
   "execution_count": 3,
   "metadata": {
    "collapsed": true
   },
   "outputs": [],
   "source": [
    "df.to_csv('./data/本草綱目.csv', encoding='utf-8-sig')"
   ]
  },
  {
   "cell_type": "code",
   "execution_count": null,
   "metadata": {
    "collapsed": true
   },
   "outputs": [],
   "source": []
  },
  {
   "cell_type": "code",
   "execution_count": 4,
   "metadata": {
    "collapsed": true
   },
   "outputs": [],
   "source": [
    "for index, row in df.iterrows():\n",
    "    if pd.isnull(row['目錄']):\n",
    "        continue\n",
    "    if re.search(r'\\w+[部|目]第\\w+卷 \\w{1,2}之\\w+', row['目錄']):\n",
    "        row['內文'] = re.sub(r'【 【主治】', '【主治】', row['內文'])\n",
    "        row['內文'] = re.sub(r'主治 【附方', '主治】 【附方', row['內文'])\n",
    "        row['內文'] = re.sub(r'附方 吐血', '附方】 吐血', row['內文'])\n",
    "        row['內文'] = re.sub(r'【别名】', '【釋名】', row['內文'])\n",
    "        row['內文'] = re.sub(r'【主冶】', '【主治】', row['內文'])\n",
    "df.to_csv('./data/本草綱目_Ver1.csv', encoding='utf-8-sig')"
   ]
  },
  {
   "cell_type": "code",
   "execution_count": 13,
   "metadata": {},
   "outputs": [
    {
     "data": {
      "text/plain": [
       "'塵芒入目∶大藕洗搗，綿裹，滴汁入目中，即出也。（《普濟方》）\\n\\\\x藕 \\\\x\\n\\n【主治】生食，主霍亂後虛渴煩悶不能食，解酒食毒（蘇頌）。\\n功與藕同（時珍）。解煩毒，下瘀血（汪穎）。\\n\\\\x藕節\\\\x\\n\\n大明曰∶冷。伏硫黃。\\n'"
      ]
     },
     "execution_count": 13,
     "metadata": {},
     "output_type": "execute_result"
    }
   ],
   "source": [
    "string = '''塵芒入目∶大藕洗搗，綿裹，滴汁入目中，即出也。（《普濟方》）\n",
    "藕   【釋名】藕絲菜（五、六月嫩時，採爲蔬【氣味】甘，平，無毒。\n",
    "【主治】生食，主霍亂後虛渴煩悶不能食，解酒食毒（蘇頌）。\n",
    "功與藕同（時珍）。解煩毒，下瘀血（汪穎）。\n",
    "藕節  【氣味】澀，平，無毒。\n",
    "大明曰∶冷。伏硫黃。\n",
    "'''\n",
    "re.sub(r'(?:(\\w+ ?\\w*)  (【(?:.*)))', r'\\\\x\\1\\\\x\\n', string)"
   ]
  },
  {
   "cell_type": "code",
   "execution_count": null,
   "metadata": {},
   "outputs": [],
   "source": [
    "for index, row in df.iterrows():\n",
    "    if pd.isnull(row['目錄']):\n",
    "        continue\n",
    "    if not re.search(r'\\w+[部|目]第\\w+卷 \\w{1,2}之\\w+', row['目錄']):\n",
    "        continue\n",
    "    if re.search(r'(?:(^\\w{1,10})(?: {2,2}【.*))', row['內文'], re.M):\n",
    "        ns = re.sub(r'(?:(^\\w{1,10})(?: {2,2}【.*))', r'\\\\x\\1\\\\x\\n', row['內文'])\n",
    "        print(ns)\n",
    "#     sites = re.findall(r'(?:(^\\w{1,10})(?: {2,2}【.*))|(?:(^\\w{2,10})(?: {1,1}【.*))', row['內文'], re.M)\n",
    "#     sites = re.findall(r'(?:(^\\w{1,10})(?: {2,2}【.*))', row['內文'], re.M)"
   ]
  },
  {
   "cell_type": "code",
   "execution_count": null,
   "metadata": {
    "scrolled": true
   },
   "outputs": [],
   "source": [
    "for index, row in df.iterrows():\n",
    "    if pd.isnull(row['目錄']):\n",
    "        continue\n",
    "    if not re.search(r'\\w+[部|目]第\\w+卷 \\w{1,2}之\\w+', row['目錄']):\n",
    "        continue\n",
    "#     if re.match(r'(?:(^\\w{1,10})(?: {2,2}【.*))', row['內文'], re.M):\n",
    "#         ns = re.sub(r'(?:(^\\w{1,10})(?: {2,2}【.*))', r'\\\\x\\1\\\\x\\n', row['內文'], re.M)\n",
    "#         print(ns)\n",
    "#     sites = re.findall(r'(?:(^\\w{1,10})(?: {2,2}【.*))|(?:(^\\w{2,10})(?: {1,1}【.*))', row['內文'], re.M)\n",
    "    sites = re.findall(r'(?:(^\\w{1,10})(?: {2,2}【.*))', row['內文'], re.M)\n",
    "#     if sites:\n",
    "#         print(sites)\n"
   ]
  },
  {
   "cell_type": "code",
   "execution_count": null,
   "metadata": {
    "collapsed": true
   },
   "outputs": [],
   "source": []
  },
  {
   "cell_type": "code",
   "execution_count": null,
   "metadata": {
    "collapsed": true
   },
   "outputs": [],
   "source": [
    "new_df = pd.DataFrame(columns=['目錄', '標題', '釋名', '內文', '部位', '部位內文', '主治', '氣味', '附方'])\n",
    "for index, row in df.iterrows():\n",
    "    if pd.isnull(row['目錄']):\n",
    "        continue\n",
    "    if not re.search(r'\\w+[部|目]第\\w+卷 \\w{1,2}之\\w+', row['目錄']):\n",
    "        continue\n",
    "    data_row = dict((k, '') for k in new_df.columns)\n",
    "    data_row['目錄'] = row['目錄']\n",
    "    data_row['標題'] = row['標題']\n",
    "    data_row['內文'] = row['內文']\n",
    "    if re.search(r'【釋名】(.*?)(?=【|(?<=.$))', data_row['內文'], re.S):\n",
    "        data_row['釋名'] = re.search(r'【釋名】(.*?)(?=【|(?<=.$))', data_row['內文'], re.S).group(1)\n",
    "    newContent = re.sub(r'(?:(^\\w{1,10})(?: {2,2}【.*))', r'\\\\x\\1\\\\x\\n\\2', row['內文'], re.M)\n",
    "    sites = re.findall(r'(\\\\x.+?\\\\x.*?)(?=\\\\x|(?<=.$))', newContent, re.S)\n",
    "    sites = sites if sites else [data_row['內文']]\n",
    "    for s_content in sites:\n",
    "        data_row['部位內文'] = s_content\n",
    "        if re.search(r'\\\\x(.+?)\\\\x', s_content, re.S):\n",
    "            data_row['部位'] = re.search(r'\\\\x(.+?)\\\\x', s_content, re.S).group(1)\n",
    "        if re.search(r'【主治】(.*?)(?=【|(?<=.$))', s_content, re.S):\n",
    "            data_row['主治'] = re.search(r'【主治】(.*?)(?=【|(?<=.$))', s_content, re.S).group(1)\n",
    "        if re.search(r'【氣味】(.*?)(?=【|(?<=.$))', s_content, re.S):\n",
    "            data_row['氣味'] = re.search(r'【氣味】(.*?)(?=【|(?<=.$))', s_content, re.S).group(1)\n",
    "        if re.search(r'【附方】(.*?)(?=【|(?<=.$))', s_content, re.S):\n",
    "            data_row['附方'] = re.search(r'【附方】(.*?)(?=【|(?<=.$))', s_content, re.S).group(1)\n",
    "        new_df = new_df.append(data_row, ignore_index=True)\n"
   ]
  },
  {
   "cell_type": "code",
   "execution_count": null,
   "metadata": {
    "collapsed": true
   },
   "outputs": [],
   "source": [
    "new_df.to_csv('./data/本草綱目_Ver2.csv', encoding='utf-8-sig')"
   ]
  },
  {
   "cell_type": "code",
   "execution_count": null,
   "metadata": {
    "collapsed": true
   },
   "outputs": [],
   "source": []
  },
  {
   "cell_type": "code",
   "execution_count": null,
   "metadata": {
    "collapsed": true
   },
   "outputs": [],
   "source": []
  },
  {
   "cell_type": "code",
   "execution_count": null,
   "metadata": {
    "collapsed": true
   },
   "outputs": [],
   "source": [
    "df = new_df"
   ]
  },
  {
   "cell_type": "code",
   "execution_count": null,
   "metadata": {
    "collapsed": true,
    "scrolled": false
   },
   "outputs": [],
   "source": [
    "c_contents = df.loc[:,'附方']"
   ]
  },
  {
   "cell_type": "code",
   "execution_count": null,
   "metadata": {
    "collapsed": true,
    "scrolled": false
   },
   "outputs": [],
   "source": [
    "compounds = []\n",
    "for c_content in c_contents:\n",
    "    if pd.isnull(c_content):\n",
    "        continue\n",
    "    pattern = r'[。）》\\n][\\w ]*?( ?\\w+[\\w ，、]{1,10})∶'\n",
    "    finds = re.findall(pattern, c_content, re.S)\n",
    "    if finds:\n",
    "        compounds.extend(finds)\n",
    "#         print(finds)\n",
    "print(len(set(compounds)))\n",
    "# print(compounds)\n",
    "[c for c in set(compounds) if len(c)>10 and all(x in c for x in ['、'])]"
   ]
  },
  {
   "cell_type": "code",
   "execution_count": null,
   "metadata": {
    "collapsed": true,
    "scrolled": false
   },
   "outputs": [],
   "source": [
    "# (?=(?=(?:' + compound_join + ')∶)|(?<=.$))\n",
    "# r'''(?:(?<=(?=\\w))|(?:（|《|》|）|，|。))\\w*? ?(\\w+[ ，\\w]+)∶(.*?)\n",
    "# (?=(?=(?:(?:(?<=(?=\\w))|(?:（|《|》|）|，|。))\\w*? ?(\\w+[ ，\\w]+)∶(.*?)))|(?<=.$))'''\n",
    "compounds = []\n",
    "\n",
    "for c_content in c_contents[9:20]:\n",
    "    if pd.isnull(c_content):\n",
    "        continue\n",
    "    pattern = r'[。）》\\n][\\w ]*?( ?\\w+[\\w ，、]{1,10})∶(.*?)(?=(?:[。）》\\n][\\w ]*?(?: ?\\w+[\\w ，、]{1,10})∶)|(?<=.$))'\n",
    "    \n",
    "    finds = re.findall(pattern, c_content, re.M)\n",
    "    if finds:\n",
    "        compounds.extend(finds)\n",
    "        print(finds, '\\n')\n",
    "        print(c_content, '\\n')\n",
    "\n",
    "print(len(set(compounds)))"
   ]
  },
  {
   "cell_type": "code",
   "execution_count": null,
   "metadata": {
    "collapsed": true
   },
   "outputs": [],
   "source": [
    "string = '''新三。目不得瞑∶乃陽氣盛不得入于陰，陰氣虛，故目不得瞑。治法飲以半夏湯，用流水千裏外者八升，揚之萬遍，取其清五升煮之，炊葦薪火，置秫米一升，半夏五合，徐炊令竭爲一升半，去滓飲汁一小杯，日三飲，以知爲度。詳半夏下。（《靈樞經》）汗後奔豚∶茯苓桂枝甘草大棗湯，治發汗後臍下悸，欲作奔豚者。茯苓一兩，炙甘草二錢半，桂枝三錢，大棗二枚。以甘瀾水二升，先煮茯苓，納諸藥煮服之，日三。（張仲景《金匱要略》）\n",
    "服藥過劑煩悶∶東流水飲一、二升。（《肘後方》）'''"
   ]
  },
  {
   "cell_type": "code",
   "execution_count": null,
   "metadata": {
    "collapsed": true
   },
   "outputs": [],
   "source": [
    "# pattern = r'[。）》]((?: ?\\w{0,10}[ ，、]?\\n?){0,1}' \\\n",
    "#           r'(?: ?\\w{0,2}[，、] \\n){0,2}' \\\n",
    "#           r'(?:(?:\\w+[，、]){1,3} ?\\n?){0,3}\\w{1,11})∶'\n",
    "\n",
    "pattern = r'[。）》\\n][\\w ]*?( ?\\w+[\\w ，、]{1,10})∶(.*?)(?=(?:[。）》\\n][\\w ]*?(?: ?\\w+[\\w ，、]{1,10})∶)|(?<=.$))'\n",
    "\n",
    "(re.findall(pattern, string, re.M))"
   ]
  }
 ],
 "metadata": {
  "kernelspec": {
   "display_name": "Python 3",
   "language": "python",
   "name": "python3"
  },
  "language_info": {
   "codemirror_mode": {
    "name": "ipython",
    "version": 3
   },
   "file_extension": ".py",
   "mimetype": "text/x-python",
   "name": "python",
   "nbconvert_exporter": "python",
   "pygments_lexer": "ipython3",
   "version": "3.6.3"
  }
 },
 "nbformat": 4,
 "nbformat_minor": 2
}
