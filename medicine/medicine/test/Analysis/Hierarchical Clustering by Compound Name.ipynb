{
 "cells": [
  {
   "cell_type": "code",
   "execution_count": 1,
   "metadata": {
    "collapsed": true
   },
   "outputs": [],
   "source": [
    "import sys\n",
    "sys.path.insert(1, '../../..')"
   ]
  },
  {
   "cell_type": "code",
   "execution_count": 2,
   "metadata": {
    "collapsed": true
   },
   "outputs": [],
   "source": [
    "import re\n",
    "import numpy as np\n",
    "import pandas as pd\n",
    "from medicine.models.compound import Compound\n",
    "from medicine.models.medicine import Medicine\n",
    "from mlxtend.preprocessing import TransactionEncoder\n",
    "from sklearn.preprocessing import MultiLabelBinarizer"
   ]
  },
  {
   "cell_type": "code",
   "execution_count": 3,
   "metadata": {
    "scrolled": false
   },
   "outputs": [
    {
     "name": "stderr",
     "output_type": "stream",
     "text": [
      "F:\\Python\\anaconda3\\lib\\site-packages\\sqlalchemy\\engine\\default.py:470: Warning: (1366, \"Incorrect string value: '\\\\xA5x\\\\xA5_\\\\xBC\\\\xD0...' for column 'VARIABLE_VALUE' at row 480\")\n",
      "  cursor.execute(statement, parameters)\n"
     ]
    }
   ],
   "source": [
    "compound_id = []\n",
    "compound_name = []\n",
    "compound_list = []\n",
    "\n",
    "for compound in Compound.query.all():\n",
    "    compound_id.append(compound.id)\n",
    "    compound_name.append(compound.name)\n",
    "    medicine_list = [medicine.name for medicine in compound.medicine]\n",
    "    compound_list.append(medicine_list)"
   ]
  },
  {
   "cell_type": "code",
   "execution_count": 4,
   "metadata": {},
   "outputs": [
    {
     "data": {
      "text/html": [
       "<div>\n",
       "<style scoped>\n",
       "    .dataframe tbody tr th:only-of-type {\n",
       "        vertical-align: middle;\n",
       "    }\n",
       "\n",
       "    .dataframe tbody tr th {\n",
       "        vertical-align: top;\n",
       "    }\n",
       "\n",
       "    .dataframe thead th {\n",
       "        text-align: right;\n",
       "    }\n",
       "</style>\n",
       "<table border=\"1\" class=\"dataframe\">\n",
       "  <thead>\n",
       "    <tr style=\"text-align: right;\">\n",
       "      <th></th>\n",
       "      <th>id</th>\n",
       "      <th>cname</th>\n",
       "      <th>medicine</th>\n",
       "    </tr>\n",
       "  </thead>\n",
       "  <tbody>\n",
       "    <tr>\n",
       "      <th>0</th>\n",
       "      <td>1</td>\n",
       "      <td>滅瘢痕</td>\n",
       "      <td>[Medicine('夏冰', '水')]</td>\n",
       "    </tr>\n",
       "    <tr>\n",
       "      <th>1</th>\n",
       "      <td>2</td>\n",
       "      <td>闢禳時疫</td>\n",
       "      <td>[Medicine('半天河', '水')]</td>\n",
       "    </tr>\n",
       "    <tr>\n",
       "      <th>2</th>\n",
       "      <td>3</td>\n",
       "      <td>身體白駁</td>\n",
       "      <td>[Medicine('半天河', '水')]</td>\n",
       "    </tr>\n",
       "    <tr>\n",
       "      <th>3</th>\n",
       "      <td>4</td>\n",
       "      <td>目不得瞑</td>\n",
       "      <td>[Medicine('流水', '水'), Medicine('半夏', '草')]</td>\n",
       "    </tr>\n",
       "    <tr>\n",
       "      <th>4</th>\n",
       "      <td>5</td>\n",
       "      <td>汗後奔豚</td>\n",
       "      <td>[Medicine('流水', '水'), Medicine('甘草', '草'), Med...</td>\n",
       "    </tr>\n",
       "  </tbody>\n",
       "</table>\n",
       "</div>"
      ],
      "text/plain": [
       "   id cname                                           medicine\n",
       "0   1   滅瘢痕                              [Medicine('夏冰', '水')]\n",
       "1   2  闢禳時疫                             [Medicine('半天河', '水')]\n",
       "2   3  身體白駁                             [Medicine('半天河', '水')]\n",
       "3   4  目不得瞑         [Medicine('流水', '水'), Medicine('半夏', '草')]\n",
       "4   5  汗後奔豚  [Medicine('流水', '水'), Medicine('甘草', '草'), Med..."
      ]
     },
     "execution_count": 4,
     "metadata": {},
     "output_type": "execute_result"
    }
   ],
   "source": [
    "data_df = pd.DataFrame(data=[(compound.id, compound.name, compound.medicine) for compound in Compound.query.all()], \n",
    "                       columns=['id', 'cname', 'medicine'])\n",
    "data_df.head(5)"
   ]
  },
  {
   "cell_type": "code",
   "execution_count": 5,
   "metadata": {},
   "outputs": [
    {
     "data": {
      "text/html": [
       "<div>\n",
       "<style scoped>\n",
       "    .dataframe tbody tr th:only-of-type {\n",
       "        vertical-align: middle;\n",
       "    }\n",
       "\n",
       "    .dataframe tbody tr th {\n",
       "        vertical-align: top;\n",
       "    }\n",
       "\n",
       "    .dataframe thead th {\n",
       "        text-align: right;\n",
       "    }\n",
       "</style>\n",
       "<table border=\"1\" class=\"dataframe\">\n",
       "  <thead>\n",
       "    <tr style=\"text-align: right;\">\n",
       "      <th></th>\n",
       "      <th>cname</th>\n",
       "      <th>medicine</th>\n",
       "    </tr>\n",
       "    <tr>\n",
       "      <th>id</th>\n",
       "      <th></th>\n",
       "      <th></th>\n",
       "    </tr>\n",
       "  </thead>\n",
       "  <tbody>\n",
       "    <tr>\n",
       "      <th>1</th>\n",
       "      <td>滅瘢痕</td>\n",
       "      <td>[夏冰]</td>\n",
       "    </tr>\n",
       "    <tr>\n",
       "      <th>2</th>\n",
       "      <td>闢禳時疫</td>\n",
       "      <td>[半天河]</td>\n",
       "    </tr>\n",
       "    <tr>\n",
       "      <th>3</th>\n",
       "      <td>身體白駁</td>\n",
       "      <td>[半天河]</td>\n",
       "    </tr>\n",
       "    <tr>\n",
       "      <th>4</th>\n",
       "      <td>目不得瞑</td>\n",
       "      <td>[流水, 半夏]</td>\n",
       "    </tr>\n",
       "    <tr>\n",
       "      <th>5</th>\n",
       "      <td>汗後奔豚</td>\n",
       "      <td>[流水, 甘草, 茯苓]</td>\n",
       "    </tr>\n",
       "  </tbody>\n",
       "</table>\n",
       "</div>"
      ],
      "text/plain": [
       "   cname      medicine\n",
       "id                    \n",
       "1    滅瘢痕          [夏冰]\n",
       "2   闢禳時疫         [半天河]\n",
       "3   身體白駁         [半天河]\n",
       "4   目不得瞑      [流水, 半夏]\n",
       "5   汗後奔豚  [流水, 甘草, 茯苓]"
      ]
     },
     "execution_count": 5,
     "metadata": {},
     "output_type": "execute_result"
    }
   ],
   "source": [
    "data_df = data_df.set_index('id')\n",
    "\n",
    "for index, row in data_df.iterrows():\n",
    "    medicines = []\n",
    "    for medicine in row.medicine:\n",
    "        medicines.append(medicine.name)\n",
    "    row.medicine = medicines\n",
    "    \n",
    "data_df.head(5)"
   ]
  },
  {
   "cell_type": "markdown",
   "metadata": {},
   "source": [
    "### 嘗試用附方名稱分群"
   ]
  },
  {
   "cell_type": "code",
   "execution_count": 6,
   "metadata": {},
   "outputs": [
    {
     "data": {
      "text/html": [
       "<div>\n",
       "<style scoped>\n",
       "    .dataframe tbody tr th:only-of-type {\n",
       "        vertical-align: middle;\n",
       "    }\n",
       "\n",
       "    .dataframe tbody tr th {\n",
       "        vertical-align: top;\n",
       "    }\n",
       "\n",
       "    .dataframe thead th {\n",
       "        text-align: right;\n",
       "    }\n",
       "</style>\n",
       "<table border=\"1\" class=\"dataframe\">\n",
       "  <thead>\n",
       "    <tr style=\"text-align: right;\">\n",
       "      <th></th>\n",
       "      <th>cname</th>\n",
       "      <th>medicine</th>\n",
       "      <th>cut_name</th>\n",
       "    </tr>\n",
       "    <tr>\n",
       "      <th>id</th>\n",
       "      <th></th>\n",
       "      <th></th>\n",
       "      <th></th>\n",
       "    </tr>\n",
       "  </thead>\n",
       "  <tbody>\n",
       "    <tr>\n",
       "      <th>1</th>\n",
       "      <td>滅瘢痕</td>\n",
       "      <td>[夏冰]</td>\n",
       "      <td>[滅, 瘢, 痕, 滅瘢, 瘢痕]</td>\n",
       "    </tr>\n",
       "    <tr>\n",
       "      <th>2</th>\n",
       "      <td>闢禳時疫</td>\n",
       "      <td>[半天河]</td>\n",
       "      <td>[闢, 禳, 時, 疫, 闢禳, 禳時, 時疫]</td>\n",
       "    </tr>\n",
       "    <tr>\n",
       "      <th>3</th>\n",
       "      <td>身體白駁</td>\n",
       "      <td>[半天河]</td>\n",
       "      <td>[身, 體, 白, 駁, 身體, 體白, 白駁]</td>\n",
       "    </tr>\n",
       "    <tr>\n",
       "      <th>4</th>\n",
       "      <td>目不得瞑</td>\n",
       "      <td>[流水, 半夏]</td>\n",
       "      <td>[目, 不, 得, 瞑, 目不, 不得, 得瞑]</td>\n",
       "    </tr>\n",
       "    <tr>\n",
       "      <th>5</th>\n",
       "      <td>汗後奔豚</td>\n",
       "      <td>[流水, 甘草, 茯苓]</td>\n",
       "      <td>[汗, 後, 奔, 豚, 汗後, 後奔, 奔豚]</td>\n",
       "    </tr>\n",
       "  </tbody>\n",
       "</table>\n",
       "</div>"
      ],
      "text/plain": [
       "   cname      medicine                  cut_name\n",
       "id                                              \n",
       "1    滅瘢痕          [夏冰]         [滅, 瘢, 痕, 滅瘢, 瘢痕]\n",
       "2   闢禳時疫         [半天河]  [闢, 禳, 時, 疫, 闢禳, 禳時, 時疫]\n",
       "3   身體白駁         [半天河]  [身, 體, 白, 駁, 身體, 體白, 白駁]\n",
       "4   目不得瞑      [流水, 半夏]  [目, 不, 得, 瞑, 目不, 不得, 得瞑]\n",
       "5   汗後奔豚  [流水, 甘草, 茯苓]  [汗, 後, 奔, 豚, 汗後, 後奔, 奔豚]"
      ]
     },
     "execution_count": 6,
     "metadata": {},
     "output_type": "execute_result"
    }
   ],
   "source": [
    "word_list = []\n",
    "\n",
    "for index, row in data_df.iterrows():\n",
    "    c_name = re.sub('(\\s|KT)', '', row['cname'])\n",
    "    sentences = re.split('\\W', c_name)\n",
    "    cut_word = []\n",
    "    for sentence in sentences:\n",
    "        cut_word.extend([word for word in sentence])\n",
    "        cut_word.extend([sentence[i:i+2] for i in range(len(sentence)-1)])\n",
    "    word_list.append(cut_word)\n",
    "\n",
    "data_df['cut_name'] = word_list\n",
    "data_df.head(5)"
   ]
  },
  {
   "cell_type": "code",
   "execution_count": 7,
   "metadata": {
    "scrolled": true
   },
   "outputs": [
    {
     "name": "stdout",
     "output_type": "stream",
     "text": [
      "(5815, 9779)\n"
     ]
    },
    {
     "data": {
      "text/html": [
       "<div>\n",
       "<style scoped>\n",
       "    .dataframe tbody tr th:only-of-type {\n",
       "        vertical-align: middle;\n",
       "    }\n",
       "\n",
       "    .dataframe tbody tr th {\n",
       "        vertical-align: top;\n",
       "    }\n",
       "\n",
       "    .dataframe thead th {\n",
       "        text-align: right;\n",
       "    }\n",
       "</style>\n",
       "<table border=\"1\" class=\"dataframe\">\n",
       "  <thead>\n",
       "    <tr style=\"text-align: right;\">\n",
       "      <th></th>\n",
       "      <th>一</th>\n",
       "      <th>一二</th>\n",
       "      <th>一人</th>\n",
       "      <th>一分</th>\n",
       "      <th>一切</th>\n",
       "      <th>一升</th>\n",
       "      <th>一女</th>\n",
       "      <th>一字</th>\n",
       "      <th>一宿</th>\n",
       "      <th>一寸</th>\n",
       "      <th>...</th>\n",
       "      <th>龈風</th>\n",
       "      <th>龍</th>\n",
       "      <th>龍丸</th>\n",
       "      <th>龍症</th>\n",
       "      <th>龍纏</th>\n",
       "      <th>龍膽</th>\n",
       "      <th>龍香</th>\n",
       "      <th>龜</th>\n",
       "      <th>龜病</th>\n",
       "      <th>龜背</th>\n",
       "    </tr>\n",
       "  </thead>\n",
       "  <tbody>\n",
       "    <tr>\n",
       "      <th>0</th>\n",
       "      <td>False</td>\n",
       "      <td>False</td>\n",
       "      <td>False</td>\n",
       "      <td>False</td>\n",
       "      <td>False</td>\n",
       "      <td>False</td>\n",
       "      <td>False</td>\n",
       "      <td>False</td>\n",
       "      <td>False</td>\n",
       "      <td>False</td>\n",
       "      <td>...</td>\n",
       "      <td>False</td>\n",
       "      <td>False</td>\n",
       "      <td>False</td>\n",
       "      <td>False</td>\n",
       "      <td>False</td>\n",
       "      <td>False</td>\n",
       "      <td>False</td>\n",
       "      <td>False</td>\n",
       "      <td>False</td>\n",
       "      <td>False</td>\n",
       "    </tr>\n",
       "    <tr>\n",
       "      <th>1</th>\n",
       "      <td>False</td>\n",
       "      <td>False</td>\n",
       "      <td>False</td>\n",
       "      <td>False</td>\n",
       "      <td>False</td>\n",
       "      <td>False</td>\n",
       "      <td>False</td>\n",
       "      <td>False</td>\n",
       "      <td>False</td>\n",
       "      <td>False</td>\n",
       "      <td>...</td>\n",
       "      <td>False</td>\n",
       "      <td>False</td>\n",
       "      <td>False</td>\n",
       "      <td>False</td>\n",
       "      <td>False</td>\n",
       "      <td>False</td>\n",
       "      <td>False</td>\n",
       "      <td>False</td>\n",
       "      <td>False</td>\n",
       "      <td>False</td>\n",
       "    </tr>\n",
       "    <tr>\n",
       "      <th>2</th>\n",
       "      <td>False</td>\n",
       "      <td>False</td>\n",
       "      <td>False</td>\n",
       "      <td>False</td>\n",
       "      <td>False</td>\n",
       "      <td>False</td>\n",
       "      <td>False</td>\n",
       "      <td>False</td>\n",
       "      <td>False</td>\n",
       "      <td>False</td>\n",
       "      <td>...</td>\n",
       "      <td>False</td>\n",
       "      <td>False</td>\n",
       "      <td>False</td>\n",
       "      <td>False</td>\n",
       "      <td>False</td>\n",
       "      <td>False</td>\n",
       "      <td>False</td>\n",
       "      <td>False</td>\n",
       "      <td>False</td>\n",
       "      <td>False</td>\n",
       "    </tr>\n",
       "    <tr>\n",
       "      <th>3</th>\n",
       "      <td>False</td>\n",
       "      <td>False</td>\n",
       "      <td>False</td>\n",
       "      <td>False</td>\n",
       "      <td>False</td>\n",
       "      <td>False</td>\n",
       "      <td>False</td>\n",
       "      <td>False</td>\n",
       "      <td>False</td>\n",
       "      <td>False</td>\n",
       "      <td>...</td>\n",
       "      <td>False</td>\n",
       "      <td>False</td>\n",
       "      <td>False</td>\n",
       "      <td>False</td>\n",
       "      <td>False</td>\n",
       "      <td>False</td>\n",
       "      <td>False</td>\n",
       "      <td>False</td>\n",
       "      <td>False</td>\n",
       "      <td>False</td>\n",
       "    </tr>\n",
       "    <tr>\n",
       "      <th>4</th>\n",
       "      <td>False</td>\n",
       "      <td>False</td>\n",
       "      <td>False</td>\n",
       "      <td>False</td>\n",
       "      <td>False</td>\n",
       "      <td>False</td>\n",
       "      <td>False</td>\n",
       "      <td>False</td>\n",
       "      <td>False</td>\n",
       "      <td>False</td>\n",
       "      <td>...</td>\n",
       "      <td>False</td>\n",
       "      <td>False</td>\n",
       "      <td>False</td>\n",
       "      <td>False</td>\n",
       "      <td>False</td>\n",
       "      <td>False</td>\n",
       "      <td>False</td>\n",
       "      <td>False</td>\n",
       "      <td>False</td>\n",
       "      <td>False</td>\n",
       "    </tr>\n",
       "  </tbody>\n",
       "</table>\n",
       "<p>5 rows × 9779 columns</p>\n",
       "</div>"
      ],
      "text/plain": [
       "       一     一二     一人     一分     一切     一升     一女     一字     一宿     一寸  \\\n",
       "0  False  False  False  False  False  False  False  False  False  False   \n",
       "1  False  False  False  False  False  False  False  False  False  False   \n",
       "2  False  False  False  False  False  False  False  False  False  False   \n",
       "3  False  False  False  False  False  False  False  False  False  False   \n",
       "4  False  False  False  False  False  False  False  False  False  False   \n",
       "\n",
       "   ...       龈風      龍     龍丸     龍症     龍纏     龍膽     龍香      龜     龜病     龜背  \n",
       "0  ...    False  False  False  False  False  False  False  False  False  False  \n",
       "1  ...    False  False  False  False  False  False  False  False  False  False  \n",
       "2  ...    False  False  False  False  False  False  False  False  False  False  \n",
       "3  ...    False  False  False  False  False  False  False  False  False  False  \n",
       "4  ...    False  False  False  False  False  False  False  False  False  False  \n",
       "\n",
       "[5 rows x 9779 columns]"
      ]
     },
     "execution_count": 7,
     "metadata": {},
     "output_type": "execute_result"
    }
   ],
   "source": [
    "te = TransactionEncoder()\n",
    "te_ary = te.fit(data_df['cut_name']).transform(data_df['cut_name'])\n",
    "df_name = pd.DataFrame(te_ary, columns=te.columns_)\n",
    "print(df_name.shape)\n",
    "df_name.head(5)"
   ]
  },
  {
   "cell_type": "markdown",
   "metadata": {},
   "source": [
    "### Hierarchy cluster"
   ]
  },
  {
   "cell_type": "code",
   "execution_count": 8,
   "metadata": {
    "collapsed": true
   },
   "outputs": [],
   "source": [
    "from scipy.cluster.hierarchy import cophenet\n",
    "from scipy.spatial.distance import pdist\n",
    "from matplotlib import pyplot as plt\n",
    "from scipy.cluster.hierarchy import dendrogram, linkage\n",
    "\n",
    "%matplotlib inline"
   ]
  },
  {
   "cell_type": "code",
   "execution_count": 9,
   "metadata": {
    "collapsed": true
   },
   "outputs": [],
   "source": [
    "Z = linkage(df_name, 'ward')\n",
    "dist = pdist(df_name)"
   ]
  },
  {
   "cell_type": "code",
   "execution_count": 10,
   "metadata": {
    "collapsed": true
   },
   "outputs": [],
   "source": [
    "c, coph_dists = cophenet(Z, dist)"
   ]
  },
  {
   "cell_type": "code",
   "execution_count": 11,
   "metadata": {},
   "outputs": [
    {
     "data": {
      "image/png": "[encoded data removed]",
      "text/plain": [
       "<matplotlib.figure.Figure at 0x25f55598e10>"
      ]
     },
     "metadata": {},
     "output_type": "display_data"
    }
   ],
   "source": [
    "plt.figure(figsize=(25, 10))\n",
    "plt.title('Hierarchical Clustering Dendrogram')\n",
    "plt.xlabel('index')\n",
    "plt.ylabel('distance')\n",
    "dendrogram(\n",
    "    Z,\n",
    "    leaf_rotation=90.,  # rotates the x axis labels\n",
    "    leaf_font_size=8.,  # font size for the x axis labels\n",
    ")\n",
    "plt.show()"
   ]
  },
  {
   "cell_type": "code",
   "execution_count": 12,
   "metadata": {},
   "outputs": [
    {
     "data": {
      "image/png": "[encoded data removed]",
      "text/plain": [
       "<matplotlib.figure.Figure at 0x25f085a67f0>"
      ]
     },
     "metadata": {},
     "output_type": "display_data"
    }
   ],
   "source": [
    "plt.title('Hierarchical Clustering Dendrogram (truncated)')\n",
    "plt.xlabel('index')\n",
    "plt.ylabel('distance')\n",
    "dendrogram(\n",
    "    Z,\n",
    "    truncate_mode='lastp',  # show only the last p merged clusters\n",
    "    p=8,  # show only the last p merged clusters\n",
    "    # show_leaf_counts=False,  # otherwise numbers in brackets are counts\n",
    "    leaf_rotation=90.,\n",
    "    leaf_font_size=12.,\n",
    "    show_contracted=True,  # to get a distribution impression in truncated branches\n",
    ")\n",
    "plt.show()"
   ]
  },
  {
   "cell_type": "code",
   "execution_count": 13,
   "metadata": {
    "collapsed": true
   },
   "outputs": [],
   "source": [
    "from sklearn import cluster, datasets, metrics\n",
    "import matplotlib.pyplot as plt"
   ]
  },
  {
   "cell_type": "code",
   "execution_count": 14,
   "metadata": {
    "scrolled": false,
    "collapsed": false
   },
   "outputs": [
    {
     "data": {
      "image/png": "[encoded data removed]",
      "text/plain": [
       "<matplotlib.figure.Figure at 0x25f50798c88>"
      ]
     },
     "metadata": {},
     "output_type": "display_data"
    },
    {
     "name": "stdout",
     "output_type": "stream",
     "text": [
      "[0.05039948735129335, 0.038934488233390394, 0.013124506726694775, 0.021360470619997674, 0.024664814360290718, 0.020546176167010124, 0.04122645831192706, 0.027718493517286856, 0.029823750557263093]\n"
     ]
    }
   ],
   "source": [
    "silhouette_avgs = []\n",
    "ks = range(2,11)\n",
    "for k in ks:\n",
    "    kmeans_fit = cluster.KMeans(n_clusters=k, n_init=20, max_iter=1000).fit(df_name)\n",
    "    cluster_labels = kmeans_fit.labels_\n",
    "    silhouette_avg = metrics.silhouette_score(df_name, cluster_labels)\n",
    "    silhouette_avgs.append(silhouette_avg)\n",
    "\n",
    "plt.bar(ks, silhouette_avgs)\n",
    "plt.show()\n",
    "print(silhouette_avgs)\n",
    "# 0.4465 0.045"
   ]
  },
  {
   "cell_type": "markdown",
   "metadata": {},
   "source": [
    "### Decision 8 groups"
   ]
  },
  {
   "cell_type": "code",
   "execution_count": 30,
   "metadata": {},
   "outputs": [
    {
     "data": {
      "text/plain": [
       "0.03978657100812668"
      ]
     },
     "execution_count": 30,
     "metadata": {},
     "output_type": "execute_result"
    }
   ],
   "source": [
    "n_clusters = 8\n",
    "kmeans_fit = cluster.KMeans(n_clusters=n_clusters, n_init=50, max_iter=1000).fit(df_name)\n",
    "cluster_labels = kmeans_fit.labels_\n",
    "metrics.silhouette_score(df_name, cluster_labels)"
   ]
  },
  {
   "cell_type": "code",
   "execution_count": 31,
   "metadata": {
    "collapsed": true
   },
   "outputs": [],
   "source": [
    "group_dict = {i: np.where(kmeans_fit.labels_ == i)[0]+1 for i in range(kmeans_fit.n_clusters)}"
   ]
  },
  {
   "cell_type": "code",
   "execution_count": 32,
   "metadata": {},
   "outputs": [
    {
     "data": {
      "text/html": [
       "<div>\n",
       "<style scoped>\n",
       "    .dataframe tbody tr th:only-of-type {\n",
       "        vertical-align: middle;\n",
       "    }\n",
       "\n",
       "    .dataframe tbody tr th {\n",
       "        vertical-align: top;\n",
       "    }\n",
       "\n",
       "    .dataframe thead th {\n",
       "        text-align: right;\n",
       "    }\n",
       "</style>\n",
       "<table border=\"1\" class=\"dataframe\">\n",
       "  <thead>\n",
       "    <tr style=\"text-align: right;\">\n",
       "      <th></th>\n",
       "      <th>cname</th>\n",
       "      <th>medicine</th>\n",
       "      <th>cut_name</th>\n",
       "      <th>group</th>\n",
       "    </tr>\n",
       "    <tr>\n",
       "      <th>id</th>\n",
       "      <th></th>\n",
       "      <th></th>\n",
       "      <th></th>\n",
       "      <th></th>\n",
       "    </tr>\n",
       "  </thead>\n",
       "  <tbody>\n",
       "    <tr>\n",
       "      <th>53</th>\n",
       "      <td>代指腫痛</td>\n",
       "      <td>[熱湯]</td>\n",
       "      <td>[代, 指, 腫, 痛, 代指, 指腫, 腫痛]</td>\n",
       "      <td>7</td>\n",
       "    </tr>\n",
       "    <tr>\n",
       "      <th>61</th>\n",
       "      <td>手指腫痛</td>\n",
       "      <td>[漿水]</td>\n",
       "      <td>[手, 指, 腫, 痛, 手指, 指腫, 腫痛]</td>\n",
       "      <td>7</td>\n",
       "    </tr>\n",
       "    <tr>\n",
       "      <th>65</th>\n",
       "      <td>肛門腫痛，欲作痔瘡</td>\n",
       "      <td>[磨刀水]</td>\n",
       "      <td>[肛, 門, 腫, 痛, 肛門, 門腫, 腫痛, 欲, 作, 痔, 瘡, 欲作, 作痔, 痔瘡]</td>\n",
       "      <td>7</td>\n",
       "    </tr>\n",
       "    <tr>\n",
       "      <th>87</th>\n",
       "      <td>代指腫痛</td>\n",
       "      <td>[白垩]</td>\n",
       "      <td>[代, 指, 腫, 痛, 代指, 指腫, 腫痛]</td>\n",
       "      <td>7</td>\n",
       "    </tr>\n",
       "    <tr>\n",
       "      <th>96</th>\n",
       "      <td>内痔痛腫</td>\n",
       "      <td>[黃土, 朴硝, 黃連, 人屎]</td>\n",
       "      <td>[内, 痔, 痛, 腫, 内痔, 痔痛, 痛腫]</td>\n",
       "      <td>7</td>\n",
       "    </tr>\n",
       "  </tbody>\n",
       "</table>\n",
       "</div>"
      ],
      "text/plain": [
       "        cname          medicine  \\\n",
       "id                                \n",
       "53       代指腫痛              [熱湯]   \n",
       "61       手指腫痛              [漿水]   \n",
       "65  肛門腫痛，欲作痔瘡             [磨刀水]   \n",
       "87       代指腫痛              [白垩]   \n",
       "96       内痔痛腫  [黃土, 朴硝, 黃連, 人屎]   \n",
       "\n",
       "                                            cut_name  group  \n",
       "id                                                           \n",
       "53                          [代, 指, 腫, 痛, 代指, 指腫, 腫痛]      7  \n",
       "61                          [手, 指, 腫, 痛, 手指, 指腫, 腫痛]      7  \n",
       "65  [肛, 門, 腫, 痛, 肛門, 門腫, 腫痛, 欲, 作, 痔, 瘡, 欲作, 作痔, 痔瘡]      7  \n",
       "87                          [代, 指, 腫, 痛, 代指, 指腫, 腫痛]      7  \n",
       "96                          [内, 痔, 痛, 腫, 内痔, 痔痛, 痛腫]      7  "
      ]
     },
     "execution_count": 32,
     "metadata": {},
     "output_type": "execute_result"
    }
   ],
   "source": [
    "group_df = data_df.loc[group_dict[6],]\n",
    "group_df.head(5)"
   ]
  },
  {
   "cell_type": "code",
   "execution_count": 33,
   "metadata": {},
   "outputs": [
    {
     "data": {
      "text/html": [
       "<div>\n",
       "<style scoped>\n",
       "    .dataframe tbody tr th:only-of-type {\n",
       "        vertical-align: middle;\n",
       "    }\n",
       "\n",
       "    .dataframe tbody tr th {\n",
       "        vertical-align: top;\n",
       "    }\n",
       "\n",
       "    .dataframe thead th {\n",
       "        text-align: right;\n",
       "    }\n",
       "</style>\n",
       "<table border=\"1\" class=\"dataframe\">\n",
       "  <thead>\n",
       "    <tr style=\"text-align: right;\">\n",
       "      <th></th>\n",
       "      <th>cname</th>\n",
       "      <th>medicine</th>\n",
       "      <th>cut_name</th>\n",
       "      <th>group</th>\n",
       "    </tr>\n",
       "    <tr>\n",
       "      <th>id</th>\n",
       "      <th></th>\n",
       "      <th></th>\n",
       "      <th></th>\n",
       "      <th></th>\n",
       "    </tr>\n",
       "  </thead>\n",
       "  <tbody>\n",
       "    <tr>\n",
       "      <th>1</th>\n",
       "      <td>滅瘢痕</td>\n",
       "      <td>[夏冰]</td>\n",
       "      <td>[滅, 瘢, 痕, 滅瘢, 瘢痕]</td>\n",
       "      <td>0</td>\n",
       "    </tr>\n",
       "    <tr>\n",
       "      <th>2</th>\n",
       "      <td>闢禳時疫</td>\n",
       "      <td>[半天河]</td>\n",
       "      <td>[闢, 禳, 時, 疫, 闢禳, 禳時, 時疫]</td>\n",
       "      <td>0</td>\n",
       "    </tr>\n",
       "    <tr>\n",
       "      <th>3</th>\n",
       "      <td>身體白駁</td>\n",
       "      <td>[半天河]</td>\n",
       "      <td>[身, 體, 白, 駁, 身體, 體白, 白駁]</td>\n",
       "      <td>0</td>\n",
       "    </tr>\n",
       "    <tr>\n",
       "      <th>4</th>\n",
       "      <td>目不得瞑</td>\n",
       "      <td>[流水, 半夏]</td>\n",
       "      <td>[目, 不, 得, 瞑, 目不, 不得, 得瞑]</td>\n",
       "      <td>0</td>\n",
       "    </tr>\n",
       "    <tr>\n",
       "      <th>5</th>\n",
       "      <td>汗後奔豚</td>\n",
       "      <td>[流水, 甘草, 茯苓]</td>\n",
       "      <td>[汗, 後, 奔, 豚, 汗後, 後奔, 奔豚]</td>\n",
       "      <td>0</td>\n",
       "    </tr>\n",
       "  </tbody>\n",
       "</table>\n",
       "</div>"
      ],
      "text/plain": [
       "   cname      medicine                  cut_name  group\n",
       "id                                                     \n",
       "1    滅瘢痕          [夏冰]         [滅, 瘢, 痕, 滅瘢, 瘢痕]      0\n",
       "2   闢禳時疫         [半天河]  [闢, 禳, 時, 疫, 闢禳, 禳時, 時疫]      0\n",
       "3   身體白駁         [半天河]  [身, 體, 白, 駁, 身體, 體白, 白駁]      0\n",
       "4   目不得瞑      [流水, 半夏]  [目, 不, 得, 瞑, 目不, 不得, 得瞑]      0\n",
       "5   汗後奔豚  [流水, 甘草, 茯苓]  [汗, 後, 奔, 豚, 汗後, 後奔, 奔豚]      0"
      ]
     },
     "execution_count": 33,
     "metadata": {},
     "output_type": "execute_result"
    }
   ],
   "source": [
    "data_df['group'] = [0]*len(data_df)\n",
    "data_df.head(5)"
   ]
  },
  {
   "cell_type": "code",
   "execution_count": 34,
   "metadata": {
    "collapsed": true,
    "scrolled": true
   },
   "outputs": [],
   "source": [
    "for group in range(kmeans_fit.n_clusters):\n",
    "    data_df.loc[group_dict[group], 'group'] = group"
   ]
  },
  {
   "cell_type": "code",
   "execution_count": 35,
   "metadata": {
    "scrolled": true
   },
   "outputs": [
    {
     "data": {
      "text/html": [
       "<div>\n",
       "<style scoped>\n",
       "    .dataframe tbody tr th:only-of-type {\n",
       "        vertical-align: middle;\n",
       "    }\n",
       "\n",
       "    .dataframe tbody tr th {\n",
       "        vertical-align: top;\n",
       "    }\n",
       "\n",
       "    .dataframe thead th {\n",
       "        text-align: right;\n",
       "    }\n",
       "</style>\n",
       "<table border=\"1\" class=\"dataframe\">\n",
       "  <thead>\n",
       "    <tr style=\"text-align: right;\">\n",
       "      <th></th>\n",
       "      <th>cname</th>\n",
       "      <th>medicine</th>\n",
       "      <th>cut_name</th>\n",
       "      <th>group</th>\n",
       "    </tr>\n",
       "    <tr>\n",
       "      <th>id</th>\n",
       "      <th></th>\n",
       "      <th></th>\n",
       "      <th></th>\n",
       "      <th></th>\n",
       "    </tr>\n",
       "  </thead>\n",
       "  <tbody>\n",
       "    <tr>\n",
       "      <th>8</th>\n",
       "      <td>衄血不止</td>\n",
       "      <td>[井華水]</td>\n",
       "      <td>[衄, 血, 不, 止, 衄血, 血不, 不止]</td>\n",
       "      <td>0</td>\n",
       "    </tr>\n",
       "    <tr>\n",
       "      <th>9</th>\n",
       "      <td>衄血不止</td>\n",
       "      <td>[井華水]</td>\n",
       "      <td>[衄, 血, 不, 止, 衄血, 血不, 不止]</td>\n",
       "      <td>0</td>\n",
       "    </tr>\n",
       "    <tr>\n",
       "      <th>10</th>\n",
       "      <td>衄血不止</td>\n",
       "      <td>[井華水]</td>\n",
       "      <td>[衄, 血, 不, 止, 衄血, 血不, 不止]</td>\n",
       "      <td>0</td>\n",
       "    </tr>\n",
       "    <tr>\n",
       "      <th>11</th>\n",
       "      <td>衄血不止</td>\n",
       "      <td>[井華水]</td>\n",
       "      <td>[衄, 血, 不, 止, 衄血, 血不, 不止]</td>\n",
       "      <td>0</td>\n",
       "    </tr>\n",
       "    <tr>\n",
       "      <th>12</th>\n",
       "      <td>金瘡血出不止</td>\n",
       "      <td>[井華水]</td>\n",
       "      <td>[金, 瘡, 血, 出, 不, 止, 金瘡, 瘡血, 血出, 出不, 不止]</td>\n",
       "      <td>0</td>\n",
       "    </tr>\n",
       "  </tbody>\n",
       "</table>\n",
       "</div>"
      ],
      "text/plain": [
       "     cname medicine                                cut_name  group\n",
       "id                                                                \n",
       "8     衄血不止    [井華水]                [衄, 血, 不, 止, 衄血, 血不, 不止]      0\n",
       "9     衄血不止    [井華水]                [衄, 血, 不, 止, 衄血, 血不, 不止]      0\n",
       "10    衄血不止    [井華水]                [衄, 血, 不, 止, 衄血, 血不, 不止]      0\n",
       "11    衄血不止    [井華水]                [衄, 血, 不, 止, 衄血, 血不, 不止]      0\n",
       "12  金瘡血出不止    [井華水]  [金, 瘡, 血, 出, 不, 止, 金瘡, 瘡血, 血出, 出不, 不止]      0"
      ]
     },
     "execution_count": 35,
     "metadata": {},
     "output_type": "execute_result"
    }
   ],
   "source": [
    "data_df[data_df['group']==0].head()"
   ]
  },
  {
   "cell_type": "code",
   "execution_count": 36,
   "metadata": {
    "scrolled": true
   },
   "outputs": [
    {
     "data": {
      "text/html": [
       "<div>\n",
       "<style scoped>\n",
       "    .dataframe tbody tr th:only-of-type {\n",
       "        vertical-align: middle;\n",
       "    }\n",
       "\n",
       "    .dataframe tbody tr th {\n",
       "        vertical-align: top;\n",
       "    }\n",
       "\n",
       "    .dataframe thead th {\n",
       "        text-align: right;\n",
       "    }\n",
       "</style>\n",
       "<table border=\"1\" class=\"dataframe\">\n",
       "  <thead>\n",
       "    <tr style=\"text-align: right;\">\n",
       "      <th></th>\n",
       "      <th>cname</th>\n",
       "      <th>medicine</th>\n",
       "      <th>cut_name</th>\n",
       "      <th>group</th>\n",
       "    </tr>\n",
       "    <tr>\n",
       "      <th>id</th>\n",
       "      <th></th>\n",
       "      <th></th>\n",
       "      <th></th>\n",
       "      <th></th>\n",
       "    </tr>\n",
       "  </thead>\n",
       "  <tbody>\n",
       "    <tr>\n",
       "      <th>23</th>\n",
       "      <td>破傷風病</td>\n",
       "      <td>[井華水, 百草霜]</td>\n",
       "      <td>[破, 傷, 風, 病, 破傷, 傷風, 風病]</td>\n",
       "      <td>1</td>\n",
       "    </tr>\n",
       "    <tr>\n",
       "      <th>83</th>\n",
       "      <td>風赤爛眼，倒睫拳毛</td>\n",
       "      <td>[白垩, 銅青]</td>\n",
       "      <td>[風, 赤, 爛, 眼, 風赤, 赤爛, 爛眼, 倒, 睫, 拳, 毛, 倒睫, 睫拳, 拳毛]</td>\n",
       "      <td>1</td>\n",
       "    </tr>\n",
       "    <tr>\n",
       "      <th>84</th>\n",
       "      <td>風赤爛眼，倒睫拳毛</td>\n",
       "      <td>[白垩, 硝石]</td>\n",
       "      <td>[風, 赤, 爛, 眼, 風赤, 赤爛, 爛眼, 倒, 睫, 拳, 毛, 倒睫, 睫拳, 拳毛]</td>\n",
       "      <td>1</td>\n",
       "    </tr>\n",
       "    <tr>\n",
       "      <th>92</th>\n",
       "      <td>烏紗驚風</td>\n",
       "      <td>[黃土]</td>\n",
       "      <td>[烏, 紗, 驚, 風, 烏紗, 紗驚, 驚風]</td>\n",
       "      <td>1</td>\n",
       "    </tr>\n",
       "    <tr>\n",
       "      <th>121</th>\n",
       "      <td>風瘙瘾疹</td>\n",
       "      <td>[胡燕窠土]</td>\n",
       "      <td>[風, 瘙, 瘾, 疹, 風瘙, 瘙瘾, 瘾疹]</td>\n",
       "      <td>1</td>\n",
       "    </tr>\n",
       "  </tbody>\n",
       "</table>\n",
       "</div>"
      ],
      "text/plain": [
       "         cname    medicine                                          cut_name  \\\n",
       "id                                                                             \n",
       "23        破傷風病  [井華水, 百草霜]                          [破, 傷, 風, 病, 破傷, 傷風, 風病]   \n",
       "83   風赤爛眼，倒睫拳毛    [白垩, 銅青]  [風, 赤, 爛, 眼, 風赤, 赤爛, 爛眼, 倒, 睫, 拳, 毛, 倒睫, 睫拳, 拳毛]   \n",
       "84   風赤爛眼，倒睫拳毛    [白垩, 硝石]  [風, 赤, 爛, 眼, 風赤, 赤爛, 爛眼, 倒, 睫, 拳, 毛, 倒睫, 睫拳, 拳毛]   \n",
       "92        烏紗驚風        [黃土]                          [烏, 紗, 驚, 風, 烏紗, 紗驚, 驚風]   \n",
       "121       風瘙瘾疹      [胡燕窠土]                          [風, 瘙, 瘾, 疹, 風瘙, 瘙瘾, 瘾疹]   \n",
       "\n",
       "     group  \n",
       "id          \n",
       "23       1  \n",
       "83       1  \n",
       "84       1  \n",
       "92       1  \n",
       "121      1  "
      ]
     },
     "execution_count": 36,
     "metadata": {},
     "output_type": "execute_result"
    }
   ],
   "source": [
    "data_df[data_df['group']==1].head()"
   ]
  },
  {
   "cell_type": "code",
   "execution_count": 37,
   "metadata": {},
   "outputs": [
    {
     "data": {
      "text/html": [
       "<div>\n",
       "<style scoped>\n",
       "    .dataframe tbody tr th:only-of-type {\n",
       "        vertical-align: middle;\n",
       "    }\n",
       "\n",
       "    .dataframe tbody tr th {\n",
       "        vertical-align: top;\n",
       "    }\n",
       "\n",
       "    .dataframe thead th {\n",
       "        text-align: right;\n",
       "    }\n",
       "</style>\n",
       "<table border=\"1\" class=\"dataframe\">\n",
       "  <thead>\n",
       "    <tr style=\"text-align: right;\">\n",
       "      <th></th>\n",
       "      <th>cname</th>\n",
       "      <th>medicine</th>\n",
       "      <th>cut_name</th>\n",
       "      <th>group</th>\n",
       "    </tr>\n",
       "    <tr>\n",
       "      <th>id</th>\n",
       "      <th></th>\n",
       "      <th></th>\n",
       "      <th></th>\n",
       "      <th></th>\n",
       "    </tr>\n",
       "  </thead>\n",
       "  <tbody>\n",
       "    <tr>\n",
       "      <th>74</th>\n",
       "      <td>小兒諸驚</td>\n",
       "      <td>[燈火]</td>\n",
       "      <td>[小, 兒, 諸, 驚, 小兒, 兒諸, 諸驚]</td>\n",
       "      <td>2</td>\n",
       "    </tr>\n",
       "    <tr>\n",
       "      <th>85</th>\n",
       "      <td>小兒熱丹</td>\n",
       "      <td>[白垩, 石膏]</td>\n",
       "      <td>[小, 兒, 熱, 丹, 小兒, 兒熱, 熱丹]</td>\n",
       "      <td>2</td>\n",
       "    </tr>\n",
       "    <tr>\n",
       "      <th>91</th>\n",
       "      <td>小兒吃土</td>\n",
       "      <td>[黃土, 黃連]</td>\n",
       "      <td>[小, 兒, 吃, 土, 小兒, 兒吃, 吃土]</td>\n",
       "      <td>2</td>\n",
       "    </tr>\n",
       "    <tr>\n",
       "      <th>114</th>\n",
       "      <td>小兒夜啼</td>\n",
       "      <td>[燒屍場上土]</td>\n",
       "      <td>[小, 兒, 夜, 啼, 小兒, 兒夜, 夜啼]</td>\n",
       "      <td>2</td>\n",
       "    </tr>\n",
       "    <tr>\n",
       "      <th>122</th>\n",
       "      <td>小兒丹毒</td>\n",
       "      <td>[胡燕窠土]</td>\n",
       "      <td>[小, 兒, 丹, 毒, 小兒, 兒丹, 丹毒]</td>\n",
       "      <td>2</td>\n",
       "    </tr>\n",
       "  </tbody>\n",
       "</table>\n",
       "</div>"
      ],
      "text/plain": [
       "    cname  medicine                  cut_name  group\n",
       "id                                                  \n",
       "74   小兒諸驚      [燈火]  [小, 兒, 諸, 驚, 小兒, 兒諸, 諸驚]      2\n",
       "85   小兒熱丹  [白垩, 石膏]  [小, 兒, 熱, 丹, 小兒, 兒熱, 熱丹]      2\n",
       "91   小兒吃土  [黃土, 黃連]  [小, 兒, 吃, 土, 小兒, 兒吃, 吃土]      2\n",
       "114  小兒夜啼   [燒屍場上土]  [小, 兒, 夜, 啼, 小兒, 兒夜, 夜啼]      2\n",
       "122  小兒丹毒    [胡燕窠土]  [小, 兒, 丹, 毒, 小兒, 兒丹, 丹毒]      2"
      ]
     },
     "execution_count": 37,
     "metadata": {},
     "output_type": "execute_result"
    }
   ],
   "source": [
    "data_df[data_df['group']==2].head()"
   ]
  },
  {
   "cell_type": "code",
   "execution_count": 38,
   "metadata": {},
   "outputs": [
    {
     "data": {
      "text/html": [
       "<div>\n",
       "<style scoped>\n",
       "    .dataframe tbody tr th:only-of-type {\n",
       "        vertical-align: middle;\n",
       "    }\n",
       "\n",
       "    .dataframe tbody tr th {\n",
       "        vertical-align: top;\n",
       "    }\n",
       "\n",
       "    .dataframe thead th {\n",
       "        text-align: right;\n",
       "    }\n",
       "</style>\n",
       "<table border=\"1\" class=\"dataframe\">\n",
       "  <thead>\n",
       "    <tr style=\"text-align: right;\">\n",
       "      <th></th>\n",
       "      <th>cname</th>\n",
       "      <th>medicine</th>\n",
       "      <th>cut_name</th>\n",
       "      <th>group</th>\n",
       "    </tr>\n",
       "    <tr>\n",
       "      <th>id</th>\n",
       "      <th></th>\n",
       "      <th></th>\n",
       "      <th></th>\n",
       "      <th></th>\n",
       "    </tr>\n",
       "  </thead>\n",
       "  <tbody>\n",
       "    <tr>\n",
       "      <th>7</th>\n",
       "      <td>九竅出血</td>\n",
       "      <td>[井華水, 丹砂]</td>\n",
       "      <td>[九, 竅, 出, 血, 九竅, 竅出, 出血]</td>\n",
       "      <td>3</td>\n",
       "    </tr>\n",
       "    <tr>\n",
       "      <th>13</th>\n",
       "      <td>犬咬血出</td>\n",
       "      <td>[井華水]</td>\n",
       "      <td>[犬, 咬, 血, 出, 犬咬, 咬血, 血出]</td>\n",
       "      <td>3</td>\n",
       "    </tr>\n",
       "    <tr>\n",
       "      <th>174</th>\n",
       "      <td>吐血衄血</td>\n",
       "      <td>[伏龍肝]</td>\n",
       "      <td>[吐, 血, 衄, 血, 吐血, 血衄, 衄血]</td>\n",
       "      <td>3</td>\n",
       "    </tr>\n",
       "    <tr>\n",
       "      <th>176</th>\n",
       "      <td>婦人血漏</td>\n",
       "      <td>[伏龍肝, 阿膠]</td>\n",
       "      <td>[婦, 人, 血, 漏, 婦人, 人血, 血漏]</td>\n",
       "      <td>3</td>\n",
       "    </tr>\n",
       "    <tr>\n",
       "      <th>214</th>\n",
       "      <td>牛皮血癬</td>\n",
       "      <td>[煙膠, 石膏]</td>\n",
       "      <td>[牛, 皮, 血, 癬, 牛皮, 皮血, 血癬]</td>\n",
       "      <td>3</td>\n",
       "    </tr>\n",
       "  </tbody>\n",
       "</table>\n",
       "</div>"
      ],
      "text/plain": [
       "    cname   medicine                  cut_name  group\n",
       "id                                                   \n",
       "7    九竅出血  [井華水, 丹砂]  [九, 竅, 出, 血, 九竅, 竅出, 出血]      3\n",
       "13   犬咬血出      [井華水]  [犬, 咬, 血, 出, 犬咬, 咬血, 血出]      3\n",
       "174  吐血衄血      [伏龍肝]  [吐, 血, 衄, 血, 吐血, 血衄, 衄血]      3\n",
       "176  婦人血漏  [伏龍肝, 阿膠]  [婦, 人, 血, 漏, 婦人, 人血, 血漏]      3\n",
       "214  牛皮血癬   [煙膠, 石膏]  [牛, 皮, 血, 癬, 牛皮, 皮血, 血癬]      3"
      ]
     },
     "execution_count": 38,
     "metadata": {},
     "output_type": "execute_result"
    }
   ],
   "source": [
    "data_df[data_df['group']==3].head()"
   ]
  },
  {
   "cell_type": "code",
   "execution_count": 39,
   "metadata": {},
   "outputs": [
    {
     "data": {
      "text/html": [
       "<div>\n",
       "<style scoped>\n",
       "    .dataframe tbody tr th:only-of-type {\n",
       "        vertical-align: middle;\n",
       "    }\n",
       "\n",
       "    .dataframe tbody tr th {\n",
       "        vertical-align: top;\n",
       "    }\n",
       "\n",
       "    .dataframe thead th {\n",
       "        text-align: right;\n",
       "    }\n",
       "</style>\n",
       "<table border=\"1\" class=\"dataframe\">\n",
       "  <thead>\n",
       "    <tr style=\"text-align: right;\">\n",
       "      <th></th>\n",
       "      <th>cname</th>\n",
       "      <th>medicine</th>\n",
       "      <th>cut_name</th>\n",
       "      <th>group</th>\n",
       "    </tr>\n",
       "    <tr>\n",
       "      <th>id</th>\n",
       "      <th></th>\n",
       "      <th></th>\n",
       "      <th></th>\n",
       "      <th></th>\n",
       "    </tr>\n",
       "  </thead>\n",
       "  <tbody>\n",
       "    <tr>\n",
       "      <th>1</th>\n",
       "      <td>滅瘢痕</td>\n",
       "      <td>[夏冰]</td>\n",
       "      <td>[滅, 瘢, 痕, 滅瘢, 瘢痕]</td>\n",
       "      <td>4</td>\n",
       "    </tr>\n",
       "    <tr>\n",
       "      <th>2</th>\n",
       "      <td>闢禳時疫</td>\n",
       "      <td>[半天河]</td>\n",
       "      <td>[闢, 禳, 時, 疫, 闢禳, 禳時, 時疫]</td>\n",
       "      <td>4</td>\n",
       "    </tr>\n",
       "    <tr>\n",
       "      <th>3</th>\n",
       "      <td>身體白駁</td>\n",
       "      <td>[半天河]</td>\n",
       "      <td>[身, 體, 白, 駁, 身體, 體白, 白駁]</td>\n",
       "      <td>4</td>\n",
       "    </tr>\n",
       "    <tr>\n",
       "      <th>4</th>\n",
       "      <td>目不得瞑</td>\n",
       "      <td>[流水, 半夏]</td>\n",
       "      <td>[目, 不, 得, 瞑, 目不, 不得, 得瞑]</td>\n",
       "      <td>4</td>\n",
       "    </tr>\n",
       "    <tr>\n",
       "      <th>5</th>\n",
       "      <td>汗後奔豚</td>\n",
       "      <td>[流水, 甘草, 茯苓]</td>\n",
       "      <td>[汗, 後, 奔, 豚, 汗後, 後奔, 奔豚]</td>\n",
       "      <td>4</td>\n",
       "    </tr>\n",
       "  </tbody>\n",
       "</table>\n",
       "</div>"
      ],
      "text/plain": [
       "   cname      medicine                  cut_name  group\n",
       "id                                                     \n",
       "1    滅瘢痕          [夏冰]         [滅, 瘢, 痕, 滅瘢, 瘢痕]      4\n",
       "2   闢禳時疫         [半天河]  [闢, 禳, 時, 疫, 闢禳, 禳時, 時疫]      4\n",
       "3   身體白駁         [半天河]  [身, 體, 白, 駁, 身體, 體白, 白駁]      4\n",
       "4   目不得瞑      [流水, 半夏]  [目, 不, 得, 瞑, 目不, 不得, 得瞑]      4\n",
       "5   汗後奔豚  [流水, 甘草, 茯苓]  [汗, 後, 奔, 豚, 汗後, 後奔, 奔豚]      4"
      ]
     },
     "execution_count": 39,
     "metadata": {},
     "output_type": "execute_result"
    }
   ],
   "source": [
    "data_df[data_df['group']==4].head()"
   ]
  },
  {
   "cell_type": "code",
   "execution_count": 40,
   "metadata": {
    "scrolled": true
   },
   "outputs": [
    {
     "data": {
      "text/html": [
       "<div>\n",
       "<style scoped>\n",
       "    .dataframe tbody tr th:only-of-type {\n",
       "        vertical-align: middle;\n",
       "    }\n",
       "\n",
       "    .dataframe tbody tr th {\n",
       "        vertical-align: top;\n",
       "    }\n",
       "\n",
       "    .dataframe thead th {\n",
       "        text-align: right;\n",
       "    }\n",
       "</style>\n",
       "<table border=\"1\" class=\"dataframe\">\n",
       "  <thead>\n",
       "    <tr style=\"text-align: right;\">\n",
       "      <th></th>\n",
       "      <th>cname</th>\n",
       "      <th>medicine</th>\n",
       "      <th>cut_name</th>\n",
       "      <th>group</th>\n",
       "    </tr>\n",
       "    <tr>\n",
       "      <th>id</th>\n",
       "      <th></th>\n",
       "      <th></th>\n",
       "      <th></th>\n",
       "      <th></th>\n",
       "    </tr>\n",
       "  </thead>\n",
       "  <tbody>\n",
       "    <tr>\n",
       "      <th>22</th>\n",
       "      <td>飲酒齒痛</td>\n",
       "      <td>[井華水]</td>\n",
       "      <td>[飲, 酒, 齒, 痛, 飲酒, 酒齒, 齒痛]</td>\n",
       "      <td>5</td>\n",
       "    </tr>\n",
       "    <tr>\n",
       "      <th>33</th>\n",
       "      <td>心腹冷痛</td>\n",
       "      <td>[井華水]</td>\n",
       "      <td>[心, 腹, 冷, 痛, 心腹, 腹冷, 冷痛]</td>\n",
       "      <td>5</td>\n",
       "    </tr>\n",
       "    <tr>\n",
       "      <th>68</th>\n",
       "      <td>耳中卒痛</td>\n",
       "      <td>[磨刀水, 鐵漿]</td>\n",
       "      <td>[耳, 中, 卒, 痛, 耳中, 中卒, 卒痛]</td>\n",
       "      <td>5</td>\n",
       "    </tr>\n",
       "    <tr>\n",
       "      <th>73</th>\n",
       "      <td>攪腸沙痛</td>\n",
       "      <td>[燈火]</td>\n",
       "      <td>[攪, 腸, 沙, 痛, 攪腸, 腸沙, 沙痛]</td>\n",
       "      <td>5</td>\n",
       "    </tr>\n",
       "    <tr>\n",
       "      <th>93</th>\n",
       "      <td>卒患心痛</td>\n",
       "      <td>[黃土]</td>\n",
       "      <td>[卒, 患, 心, 痛, 卒患, 患心, 心痛]</td>\n",
       "      <td>5</td>\n",
       "    </tr>\n",
       "  </tbody>\n",
       "</table>\n",
       "</div>"
      ],
      "text/plain": [
       "   cname   medicine                  cut_name  group\n",
       "id                                                  \n",
       "22  飲酒齒痛      [井華水]  [飲, 酒, 齒, 痛, 飲酒, 酒齒, 齒痛]      5\n",
       "33  心腹冷痛      [井華水]  [心, 腹, 冷, 痛, 心腹, 腹冷, 冷痛]      5\n",
       "68  耳中卒痛  [磨刀水, 鐵漿]  [耳, 中, 卒, 痛, 耳中, 中卒, 卒痛]      5\n",
       "73  攪腸沙痛       [燈火]  [攪, 腸, 沙, 痛, 攪腸, 腸沙, 沙痛]      5\n",
       "93  卒患心痛       [黃土]  [卒, 患, 心, 痛, 卒患, 患心, 心痛]      5"
      ]
     },
     "execution_count": 40,
     "metadata": {},
     "output_type": "execute_result"
    }
   ],
   "source": [
    "data_df[data_df['group']==5].head()"
   ]
  },
  {
   "cell_type": "code",
   "execution_count": 41,
   "metadata": {
    "scrolled": true
   },
   "outputs": [
    {
     "data": {
      "text/html": [
       "<div>\n",
       "<style scoped>\n",
       "    .dataframe tbody tr th:only-of-type {\n",
       "        vertical-align: middle;\n",
       "    }\n",
       "\n",
       "    .dataframe tbody tr th {\n",
       "        vertical-align: top;\n",
       "    }\n",
       "\n",
       "    .dataframe thead th {\n",
       "        text-align: right;\n",
       "    }\n",
       "</style>\n",
       "<table border=\"1\" class=\"dataframe\">\n",
       "  <thead>\n",
       "    <tr style=\"text-align: right;\">\n",
       "      <th></th>\n",
       "      <th>cname</th>\n",
       "      <th>medicine</th>\n",
       "      <th>cut_name</th>\n",
       "      <th>group</th>\n",
       "    </tr>\n",
       "    <tr>\n",
       "      <th>id</th>\n",
       "      <th></th>\n",
       "      <th></th>\n",
       "      <th></th>\n",
       "      <th></th>\n",
       "    </tr>\n",
       "  </thead>\n",
       "  <tbody>\n",
       "    <tr>\n",
       "      <th>53</th>\n",
       "      <td>代指腫痛</td>\n",
       "      <td>[熱湯]</td>\n",
       "      <td>[代, 指, 腫, 痛, 代指, 指腫, 腫痛]</td>\n",
       "      <td>6</td>\n",
       "    </tr>\n",
       "    <tr>\n",
       "      <th>61</th>\n",
       "      <td>手指腫痛</td>\n",
       "      <td>[漿水]</td>\n",
       "      <td>[手, 指, 腫, 痛, 手指, 指腫, 腫痛]</td>\n",
       "      <td>6</td>\n",
       "    </tr>\n",
       "    <tr>\n",
       "      <th>65</th>\n",
       "      <td>肛門腫痛，欲作痔瘡</td>\n",
       "      <td>[磨刀水]</td>\n",
       "      <td>[肛, 門, 腫, 痛, 肛門, 門腫, 腫痛, 欲, 作, 痔, 瘡, 欲作, 作痔, 痔瘡]</td>\n",
       "      <td>6</td>\n",
       "    </tr>\n",
       "    <tr>\n",
       "      <th>87</th>\n",
       "      <td>代指腫痛</td>\n",
       "      <td>[白垩]</td>\n",
       "      <td>[代, 指, 腫, 痛, 代指, 指腫, 腫痛]</td>\n",
       "      <td>6</td>\n",
       "    </tr>\n",
       "    <tr>\n",
       "      <th>96</th>\n",
       "      <td>内痔痛腫</td>\n",
       "      <td>[黃土, 朴硝, 黃連, 人屎]</td>\n",
       "      <td>[内, 痔, 痛, 腫, 内痔, 痔痛, 痛腫]</td>\n",
       "      <td>6</td>\n",
       "    </tr>\n",
       "  </tbody>\n",
       "</table>\n",
       "</div>"
      ],
      "text/plain": [
       "        cname          medicine  \\\n",
       "id                                \n",
       "53       代指腫痛              [熱湯]   \n",
       "61       手指腫痛              [漿水]   \n",
       "65  肛門腫痛，欲作痔瘡             [磨刀水]   \n",
       "87       代指腫痛              [白垩]   \n",
       "96       内痔痛腫  [黃土, 朴硝, 黃連, 人屎]   \n",
       "\n",
       "                                            cut_name  group  \n",
       "id                                                           \n",
       "53                          [代, 指, 腫, 痛, 代指, 指腫, 腫痛]      6  \n",
       "61                          [手, 指, 腫, 痛, 手指, 指腫, 腫痛]      6  \n",
       "65  [肛, 門, 腫, 痛, 肛門, 門腫, 腫痛, 欲, 作, 痔, 瘡, 欲作, 作痔, 痔瘡]      6  \n",
       "87                          [代, 指, 腫, 痛, 代指, 指腫, 腫痛]      6  \n",
       "96                          [内, 痔, 痛, 腫, 内痔, 痔痛, 痛腫]      6  "
      ]
     },
     "execution_count": 41,
     "metadata": {},
     "output_type": "execute_result"
    }
   ],
   "source": [
    "data_df[data_df['group']==6].head()"
   ]
  },
  {
   "cell_type": "code",
   "execution_count": 42,
   "metadata": {
    "scrolled": true
   },
   "outputs": [
    {
     "data": {
      "text/html": [
       "<div>\n",
       "<style scoped>\n",
       "    .dataframe tbody tr th:only-of-type {\n",
       "        vertical-align: middle;\n",
       "    }\n",
       "\n",
       "    .dataframe tbody tr th {\n",
       "        vertical-align: top;\n",
       "    }\n",
       "\n",
       "    .dataframe thead th {\n",
       "        text-align: right;\n",
       "    }\n",
       "</style>\n",
       "<table border=\"1\" class=\"dataframe\">\n",
       "  <thead>\n",
       "    <tr style=\"text-align: right;\">\n",
       "      <th></th>\n",
       "      <th>cname</th>\n",
       "      <th>medicine</th>\n",
       "      <th>cut_name</th>\n",
       "      <th>group</th>\n",
       "    </tr>\n",
       "    <tr>\n",
       "      <th>id</th>\n",
       "      <th></th>\n",
       "      <th></th>\n",
       "      <th></th>\n",
       "      <th></th>\n",
       "    </tr>\n",
       "  </thead>\n",
       "  <tbody>\n",
       "    <tr>\n",
       "      <th>64</th>\n",
       "      <td>小便不通</td>\n",
       "      <td>[磨刀水]</td>\n",
       "      <td>[小, 便, 不, 通, 小便, 便不, 不通]</td>\n",
       "      <td>7</td>\n",
       "    </tr>\n",
       "    <tr>\n",
       "      <th>132</th>\n",
       "      <td>小便不通</td>\n",
       "      <td>[蚯蚓泥, 朴硝, 蚯蚓]</td>\n",
       "      <td>[小, 便, 不, 通, 小便, 便不, 不通]</td>\n",
       "      <td>7</td>\n",
       "    </tr>\n",
       "    <tr>\n",
       "      <th>199</th>\n",
       "      <td>小便淋痛</td>\n",
       "      <td>[白瓷器, 地黃, 通草]</td>\n",
       "      <td>[小, 便, 淋, 痛, 小便, 便淋, 淋痛]</td>\n",
       "      <td>7</td>\n",
       "    </tr>\n",
       "    <tr>\n",
       "      <th>220</th>\n",
       "      <td>大小便血</td>\n",
       "      <td>[墨, 阿膠]</td>\n",
       "      <td>[大, 小, 便, 血, 大小, 小便, 便血]</td>\n",
       "      <td>7</td>\n",
       "    </tr>\n",
       "    <tr>\n",
       "      <th>265</th>\n",
       "      <td>小便不通</td>\n",
       "      <td>[梁上塵]</td>\n",
       "      <td>[小, 便, 不, 通, 小便, 便不, 不通]</td>\n",
       "      <td>7</td>\n",
       "    </tr>\n",
       "  </tbody>\n",
       "</table>\n",
       "</div>"
      ],
      "text/plain": [
       "    cname       medicine                  cut_name  group\n",
       "id                                                       \n",
       "64   小便不通          [磨刀水]  [小, 便, 不, 通, 小便, 便不, 不通]      7\n",
       "132  小便不通  [蚯蚓泥, 朴硝, 蚯蚓]  [小, 便, 不, 通, 小便, 便不, 不通]      7\n",
       "199  小便淋痛  [白瓷器, 地黃, 通草]  [小, 便, 淋, 痛, 小便, 便淋, 淋痛]      7\n",
       "220  大小便血        [墨, 阿膠]  [大, 小, 便, 血, 大小, 小便, 便血]      7\n",
       "265  小便不通          [梁上塵]  [小, 便, 不, 通, 小便, 便不, 不通]      7"
      ]
     },
     "execution_count": 42,
     "metadata": {},
     "output_type": "execute_result"
    }
   ],
   "source": [
    "data_df[data_df['group']==7].head()"
   ]
  },
  {
   "cell_type": "code",
   "execution_count": null,
   "metadata": {
    "collapsed": true
   },
   "outputs": [],
   "source": []
  },
  {
   "cell_type": "code",
   "execution_count": null,
   "metadata": {
    "collapsed": true
   },
   "outputs": [],
   "source": []
  },
  {
   "cell_type": "markdown",
   "metadata": {
    "scrolled": true
   },
   "source": [
    "### Save and load model"
   ]
  },
  {
   "cell_type": "code",
   "execution_count": 43,
   "metadata": {},
   "outputs": [
    {
     "data": {
      "text/plain": [
       "['./kmeans.pkl']"
      ]
     },
     "execution_count": 43,
     "metadata": {},
     "output_type": "execute_result"
    }
   ],
   "source": [
    "from sklearn.externals import joblib\n",
    "\n",
    "joblib.dump(kmeans_fit, './kmeans.pkl')"
   ]
  },
  {
   "cell_type": "code",
   "execution_count": 44,
   "metadata": {
    "collapsed": true
   },
   "outputs": [],
   "source": [
    "model = joblib.load('./kmeans.pkl')"
   ]
  },
  {
   "cell_type": "code",
   "execution_count": 45,
   "metadata": {
    "scrolled": false
   },
   "outputs": [
    {
     "data": {
      "text/plain": [
       "array([4, 4, 4, ..., 4, 0, 4])"
      ]
     },
     "execution_count": 45,
     "metadata": {},
     "output_type": "execute_result"
    }
   ],
   "source": [
    "model.labels_"
   ]
  },
  {
   "cell_type": "code",
   "execution_count": null,
   "metadata": {
    "collapsed": true
   },
   "outputs": [],
   "source": []
  },
  {
   "cell_type": "code",
   "execution_count": 35,
   "metadata": {
    "collapsed": true
   },
   "outputs": [],
   "source": [
    "import json"
   ]
  },
  {
   "cell_type": "code",
   "execution_count": 36,
   "metadata": {
    "scrolled": false
   },
   "outputs": [
    {
     "name": "stdout",
     "output_type": "stream",
     "text": [
      "[[\"胎動欲堕，痛不可忍\",[\"銀\"]],[\"唇腫黑痛，癢不可忍\",[\"古文錢\"]],[\"陰腫如鬭，痛不可忍\",[\"雄黃\",\"礬石\",\"甘草\"]],[\"油傷火灼，痛不可忍\",[\"石膏\"]],[\"妊娠心痛不可忍\",[\"食鹽\"]]]\n"
     ]
    }
   ],
   "source": [
    "print(group_df.iloc[:,0:2].head(5).to_json(orient='values', force_ascii=False))"
   ]
  },
  {
   "cell_type": "code",
   "execution_count": null,
   "metadata": {
    "collapsed": true
   },
   "outputs": [],
   "source": []
  },
  {
   "cell_type": "code",
   "execution_count": 37,
   "metadata": {},
   "outputs": [
    {
     "data": {
      "text/plain": [
       "['銀', '古文錢', '雄黃', '礬石', '甘草']"
      ]
     },
     "execution_count": 37,
     "metadata": {},
     "output_type": "execute_result"
    }
   ],
   "source": [
    "datas = group_df['medicine']\n",
    "\n",
    "obj = []\n",
    "for data in datas:\n",
    "    obj.extend(data)\n",
    "\n",
    "obj[0:5]"
   ]
  },
  {
   "cell_type": "code",
   "execution_count": 38,
   "metadata": {},
   "outputs": [
    {
     "data": {
      "text/plain": [
       "[('薰陸香', 6), ('蓖麻', 4), ('食鹽', 2), ('葫', 2), ('虎掌', 2)]"
      ]
     },
     "execution_count": 38,
     "metadata": {},
     "output_type": "execute_result"
    }
   ],
   "source": [
    "from collections import Counter\n",
    "\n",
    "sorted(list(Counter(obj).items()), key=lambda tup: tup[1], reverse=True)[0:5]"
   ]
  }
 ],
 "metadata": {
  "kernelspec": {
   "display_name": "Python 3",
   "language": "python",
   "name": "python3"
  },
  "language_info": {
   "codemirror_mode": {
    "name": "ipython",
    "version": 3
   },
   "file_extension": ".py",
   "mimetype": "text/x-python",
   "name": "python",
   "nbconvert_exporter": "python",
   "pygments_lexer": "ipython3",
   "version": "3.6.3"
  }
 },
 "nbformat": 4,
 "nbformat_minor": 2
}
