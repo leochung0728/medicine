{
 "cells": [
  {
   "cell_type": "code",
   "execution_count": 1,
   "metadata": {
    "collapsed": true
   },
   "outputs": [],
   "source": [
    "import re\n",
    "import pandas as pd"
   ]
  },
  {
   "cell_type": "code",
   "execution_count": 2,
   "metadata": {
    "collapsed": true
   },
   "outputs": [],
   "source": [
    "import sys\n",
    "sys.path.insert(1, '../../..')\n",
    "from medicine.models.compound import Compound "
   ]
  },
  {
   "cell_type": "code",
   "execution_count": 3,
   "metadata": {},
   "outputs": [
    {
     "name": "stderr",
     "output_type": "stream",
     "text": [
      "F:\\Python\\anaconda3\\lib\\site-packages\\sqlalchemy\\engine\\default.py:470: Warning: (1366, \"Incorrect string value: '\\\\xA5x\\\\xA5_\\\\xBC\\\\xD0...' for column 'VARIABLE_VALUE' at row 480\")\n",
      "  cursor.execute(statement, parameters)\n"
     ]
    },
    {
     "data": {
      "text/plain": [
       "['滅瘢痕', '闢禳時疫', '身體白駁', '目不得瞑', '汗後奔豚']"
      ]
     },
     "execution_count": 3,
     "metadata": {},
     "output_type": "execute_result"
    }
   ],
   "source": [
    "c_names = [c.name for c in Compound.query.all()]\n",
    "c_names[0:5]"
   ]
  },
  {
   "cell_type": "code",
   "execution_count": 4,
   "metadata": {},
   "outputs": [
    {
     "data": {
      "text/plain": [
       "[['滅', '瘢', '痕', '滅瘢', '瘢痕'],\n",
       " ['闢', '禳', '時', '疫', '闢禳', '禳時', '時疫'],\n",
       " ['身', '體', '白', '駁', '身體', '體白', '白駁'],\n",
       " ['目', '不', '得', '瞑', '目不', '不得', '得瞑'],\n",
       " ['汗', '後', '奔', '豚', '汗後', '後奔', '奔豚']]"
      ]
     },
     "execution_count": 4,
     "metadata": {},
     "output_type": "execute_result"
    }
   ],
   "source": [
    "word_list = []\n",
    "\n",
    "for c_name in c_names:\n",
    "    c_name = re.sub('(\\s|KT)', '', c_name)\n",
    "    sentences = re.split('\\W', c_name)\n",
    "    cut_word = []\n",
    "    for sentence in sentences:\n",
    "        cut_word.extend([word for word in sentence])\n",
    "        cut_word.extend([sentence[i:i+2] for i in range(len(sentence)-1)])\n",
    "    word_list.append(cut_word)\n",
    "\n",
    "word_list[0:5]"
   ]
  },
  {
   "cell_type": "code",
   "execution_count": 5,
   "metadata": {},
   "outputs": [
    {
     "name": "stdout",
     "output_type": "stream",
     "text": [
      "(5815, 9779)\n"
     ]
    },
    {
     "data": {
      "text/html": [
       "<div>\n",
       "<style scoped>\n",
       "    .dataframe tbody tr th:only-of-type {\n",
       "        vertical-align: middle;\n",
       "    }\n",
       "\n",
       "    .dataframe tbody tr th {\n",
       "        vertical-align: top;\n",
       "    }\n",
       "\n",
       "    .dataframe thead th {\n",
       "        text-align: right;\n",
       "    }\n",
       "</style>\n",
       "<table border=\"1\" class=\"dataframe\">\n",
       "  <thead>\n",
       "    <tr style=\"text-align: right;\">\n",
       "      <th></th>\n",
       "      <th>一</th>\n",
       "      <th>一二</th>\n",
       "      <th>一人</th>\n",
       "      <th>一分</th>\n",
       "      <th>一切</th>\n",
       "      <th>一升</th>\n",
       "      <th>一女</th>\n",
       "      <th>一字</th>\n",
       "      <th>一宿</th>\n",
       "      <th>一寸</th>\n",
       "      <th>...</th>\n",
       "      <th>龈風</th>\n",
       "      <th>龍</th>\n",
       "      <th>龍丸</th>\n",
       "      <th>龍症</th>\n",
       "      <th>龍纏</th>\n",
       "      <th>龍膽</th>\n",
       "      <th>龍香</th>\n",
       "      <th>龜</th>\n",
       "      <th>龜病</th>\n",
       "      <th>龜背</th>\n",
       "    </tr>\n",
       "  </thead>\n",
       "  <tbody>\n",
       "    <tr>\n",
       "      <th>0</th>\n",
       "      <td>False</td>\n",
       "      <td>False</td>\n",
       "      <td>False</td>\n",
       "      <td>False</td>\n",
       "      <td>False</td>\n",
       "      <td>False</td>\n",
       "      <td>False</td>\n",
       "      <td>False</td>\n",
       "      <td>False</td>\n",
       "      <td>False</td>\n",
       "      <td>...</td>\n",
       "      <td>False</td>\n",
       "      <td>False</td>\n",
       "      <td>False</td>\n",
       "      <td>False</td>\n",
       "      <td>False</td>\n",
       "      <td>False</td>\n",
       "      <td>False</td>\n",
       "      <td>False</td>\n",
       "      <td>False</td>\n",
       "      <td>False</td>\n",
       "    </tr>\n",
       "    <tr>\n",
       "      <th>1</th>\n",
       "      <td>False</td>\n",
       "      <td>False</td>\n",
       "      <td>False</td>\n",
       "      <td>False</td>\n",
       "      <td>False</td>\n",
       "      <td>False</td>\n",
       "      <td>False</td>\n",
       "      <td>False</td>\n",
       "      <td>False</td>\n",
       "      <td>False</td>\n",
       "      <td>...</td>\n",
       "      <td>False</td>\n",
       "      <td>False</td>\n",
       "      <td>False</td>\n",
       "      <td>False</td>\n",
       "      <td>False</td>\n",
       "      <td>False</td>\n",
       "      <td>False</td>\n",
       "      <td>False</td>\n",
       "      <td>False</td>\n",
       "      <td>False</td>\n",
       "    </tr>\n",
       "    <tr>\n",
       "      <th>2</th>\n",
       "      <td>False</td>\n",
       "      <td>False</td>\n",
       "      <td>False</td>\n",
       "      <td>False</td>\n",
       "      <td>False</td>\n",
       "      <td>False</td>\n",
       "      <td>False</td>\n",
       "      <td>False</td>\n",
       "      <td>False</td>\n",
       "      <td>False</td>\n",
       "      <td>...</td>\n",
       "      <td>False</td>\n",
       "      <td>False</td>\n",
       "      <td>False</td>\n",
       "      <td>False</td>\n",
       "      <td>False</td>\n",
       "      <td>False</td>\n",
       "      <td>False</td>\n",
       "      <td>False</td>\n",
       "      <td>False</td>\n",
       "      <td>False</td>\n",
       "    </tr>\n",
       "    <tr>\n",
       "      <th>3</th>\n",
       "      <td>False</td>\n",
       "      <td>False</td>\n",
       "      <td>False</td>\n",
       "      <td>False</td>\n",
       "      <td>False</td>\n",
       "      <td>False</td>\n",
       "      <td>False</td>\n",
       "      <td>False</td>\n",
       "      <td>False</td>\n",
       "      <td>False</td>\n",
       "      <td>...</td>\n",
       "      <td>False</td>\n",
       "      <td>False</td>\n",
       "      <td>False</td>\n",
       "      <td>False</td>\n",
       "      <td>False</td>\n",
       "      <td>False</td>\n",
       "      <td>False</td>\n",
       "      <td>False</td>\n",
       "      <td>False</td>\n",
       "      <td>False</td>\n",
       "    </tr>\n",
       "    <tr>\n",
       "      <th>4</th>\n",
       "      <td>False</td>\n",
       "      <td>False</td>\n",
       "      <td>False</td>\n",
       "      <td>False</td>\n",
       "      <td>False</td>\n",
       "      <td>False</td>\n",
       "      <td>False</td>\n",
       "      <td>False</td>\n",
       "      <td>False</td>\n",
       "      <td>False</td>\n",
       "      <td>...</td>\n",
       "      <td>False</td>\n",
       "      <td>False</td>\n",
       "      <td>False</td>\n",
       "      <td>False</td>\n",
       "      <td>False</td>\n",
       "      <td>False</td>\n",
       "      <td>False</td>\n",
       "      <td>False</td>\n",
       "      <td>False</td>\n",
       "      <td>False</td>\n",
       "    </tr>\n",
       "  </tbody>\n",
       "</table>\n",
       "<p>5 rows × 9779 columns</p>\n",
       "</div>"
      ],
      "text/plain": [
       "       一     一二     一人     一分     一切     一升     一女     一字     一宿     一寸  \\\n",
       "0  False  False  False  False  False  False  False  False  False  False   \n",
       "1  False  False  False  False  False  False  False  False  False  False   \n",
       "2  False  False  False  False  False  False  False  False  False  False   \n",
       "3  False  False  False  False  False  False  False  False  False  False   \n",
       "4  False  False  False  False  False  False  False  False  False  False   \n",
       "\n",
       "   ...       龈風      龍     龍丸     龍症     龍纏     龍膽     龍香      龜     龜病     龜背  \n",
       "0  ...    False  False  False  False  False  False  False  False  False  False  \n",
       "1  ...    False  False  False  False  False  False  False  False  False  False  \n",
       "2  ...    False  False  False  False  False  False  False  False  False  False  \n",
       "3  ...    False  False  False  False  False  False  False  False  False  False  \n",
       "4  ...    False  False  False  False  False  False  False  False  False  False  \n",
       "\n",
       "[5 rows x 9779 columns]"
      ]
     },
     "execution_count": 5,
     "metadata": {},
     "output_type": "execute_result"
    }
   ],
   "source": [
    "from mlxtend.preprocessing import TransactionEncoder\n",
    "\n",
    "te = TransactionEncoder()\n",
    "te_ary = te.fit(word_list).transform(word_list)\n",
    "df_name = pd.DataFrame(te_ary, columns=te.columns_)\n",
    "print(df_name.shape)\n",
    "df_name.head(5)"
   ]
  },
  {
   "cell_type": "code",
   "execution_count": 6,
   "metadata": {},
   "outputs": [
    {
     "name": "stderr",
     "output_type": "stream",
     "text": [
      "F:\\Python\\anaconda3\\lib\\site-packages\\sklearn\\decomposition\\online_lda.py:294: DeprecationWarning: n_topics has been renamed to n_components in version 0.19 and will be removed in 0.21\n",
      "  DeprecationWarning)\n"
     ]
    }
   ],
   "source": [
    "from sklearn.decomposition import LatentDirichletAllocation\n",
    "\n",
    "n_topics = 15\n",
    "lda = LatentDirichletAllocation(n_topics=n_topics, \n",
    "                                max_iter=20,\n",
    "                                learning_method='batch')\n",
    "docres = lda.fit_transform(df_name)"
   ]
  },
  {
   "cell_type": "code",
   "execution_count": 7,
   "metadata": {
    "collapsed": true
   },
   "outputs": [],
   "source": [
    "def print_top_words(model):\n",
    "    for topic_idx, topic in enumerate(model.components_):\n",
    "        print (\"Topic #%d:\" % topic_idx)\n",
    "        print(' '.join([df_name.columns[index] for index in topic.argsort()[ : -10-1 : -1]]))"
   ]
  },
  {
   "cell_type": "code",
   "execution_count": 8,
   "metadata": {},
   "outputs": [
    {
     "name": "stdout",
     "output_type": "stream",
     "text": [
      "Topic #0:\n",
      "後 産 産後 發 寒 脫 足 肛 傷 背\n",
      "Topic #1:\n",
      "兒 小 小兒 嗽 不 咳 熱 痢 目 咳嗽\n",
      "Topic #2:\n",
      "中 亂 霍 霍亂 不 出 身 筋 風 補\n",
      "Topic #3:\n",
      "不 血 止 不止 吐 下 吐血 血不 食 胃\n",
      "Topic #4:\n",
      "氣 舌 木 瘡 腫 悶 不 毒 石 牙疳\n",
      "Topic #5:\n",
      "毒 瘡 腫 惡 癰 渴 初 起 諸 消\n",
      "Topic #6:\n",
      "便 不 小 小便 通 不通 淋 便不 血 痛\n",
      "Topic #7:\n",
      "風 腹 牙 痛 水 蟲 腫 脹 妊 氣\n",
      "Topic #8:\n",
      "風 痛 眼 腫 赤 作 死 氣 面 作痛\n",
      "Topic #9:\n",
      "人 婦 婦人 骨 喉 痹 丹 毒 喉痹 血\n",
      "Topic #10:\n",
      "瘡 生 一 切 一切 金 出 口 陰 痘\n",
      "Topic #11:\n",
      "毒 耳 痢 瀉 吐 血 聾 熱 下 諸\n",
      "Topic #12:\n",
      "風 傷 口 火 瘡 湯 酒 破 湯火 灼\n",
      "Topic #13:\n",
      "痛 腫 腫痛 氣 心 腹 疼 不 頭 齒\n",
      "Topic #14:\n",
      "白 傷 咬 下 風 腸 毒 腸風 血 頭\n"
     ]
    }
   ],
   "source": [
    "print_top_words(lda)"
   ]
  },
  {
   "cell_type": "code",
   "execution_count": 9,
   "metadata": {
    "collapsed": true
   },
   "outputs": [],
   "source": [
    "from sklearn.decomposition import PCA\n",
    "\n",
    "\n",
    "pca = PCA(n_components=2)\n",
    "principalComponents = pca.fit_transform(df_name)\n",
    "\n",
    "principalDf = pd.DataFrame(data = principalComponents,\n",
    "                           columns = ['principal component 1', 'principal component 2'])"
   ]
  },
  {
   "cell_type": "code",
   "execution_count": 10,
   "metadata": {
    "scrolled": true
   },
   "outputs": [
    {
     "data": {
      "text/html": [
       "<div>\n",
       "<style scoped>\n",
       "    .dataframe tbody tr th:only-of-type {\n",
       "        vertical-align: middle;\n",
       "    }\n",
       "\n",
       "    .dataframe tbody tr th {\n",
       "        vertical-align: top;\n",
       "    }\n",
       "\n",
       "    .dataframe thead th {\n",
       "        text-align: right;\n",
       "    }\n",
       "</style>\n",
       "<table border=\"1\" class=\"dataframe\">\n",
       "  <thead>\n",
       "    <tr style=\"text-align: right;\">\n",
       "      <th></th>\n",
       "      <th>principal component 1</th>\n",
       "      <th>principal component 2</th>\n",
       "    </tr>\n",
       "  </thead>\n",
       "  <tbody>\n",
       "    <tr>\n",
       "      <th>0</th>\n",
       "      <td>-0.070199</td>\n",
       "      <td>-0.099154</td>\n",
       "    </tr>\n",
       "    <tr>\n",
       "      <th>1</th>\n",
       "      <td>-0.078025</td>\n",
       "      <td>-0.097330</td>\n",
       "    </tr>\n",
       "    <tr>\n",
       "      <th>2</th>\n",
       "      <td>-0.049483</td>\n",
       "      <td>-0.124344</td>\n",
       "    </tr>\n",
       "    <tr>\n",
       "      <th>3</th>\n",
       "      <td>-0.074767</td>\n",
       "      <td>0.600304</td>\n",
       "    </tr>\n",
       "    <tr>\n",
       "      <th>4</th>\n",
       "      <td>-0.088907</td>\n",
       "      <td>-0.063855</td>\n",
       "    </tr>\n",
       "  </tbody>\n",
       "</table>\n",
       "</div>"
      ],
      "text/plain": [
       "   principal component 1  principal component 2\n",
       "0              -0.070199              -0.099154\n",
       "1              -0.078025              -0.097330\n",
       "2              -0.049483              -0.124344\n",
       "3              -0.074767               0.600304\n",
       "4              -0.088907              -0.063855"
      ]
     },
     "execution_count": 10,
     "metadata": {},
     "output_type": "execute_result"
    }
   ],
   "source": [
    "finalDf = pd.concat([principalDf], axis = 1)\n",
    "finalDf.head(5)"
   ]
  },
  {
   "cell_type": "code",
   "execution_count": 11,
   "metadata": {},
   "outputs": [
    {
     "data": {
      "text/plain": [
       "<matplotlib.collections.PathCollection at 0x201808b8c18>"
      ]
     },
     "execution_count": 11,
     "metadata": {},
     "output_type": "execute_result"
    },
    {
     "data": {
      "image/png": "[encoded data removed]",
      "text/plain": [
       "<matplotlib.figure.Figure at 0x201d692ca20>"
      ]
     },
     "metadata": {},
     "output_type": "display_data"
    }
   ],
   "source": [
    "import matplotlib.pyplot as plt\n",
    "%matplotlib inline\n",
    "\n",
    "X = finalDf['principal component 1']\n",
    "Y = finalDf['principal component 2']\n",
    "plt.scatter(X, Y, s=75, alpha=.5)"
   ]
  },
  {
   "cell_type": "code",
   "execution_count": 12,
   "metadata": {
    "collapsed": true
   },
   "outputs": [],
   "source": [
    "import numpy as np"
   ]
  },
  {
   "cell_type": "code",
   "execution_count": 13,
   "metadata": {
    "collapsed": true
   },
   "outputs": [],
   "source": [
    "cluster = np.argmax(docres, axis=1)"
   ]
  },
  {
   "cell_type": "code",
   "execution_count": 14,
   "metadata": {},
   "outputs": [
    {
     "data": {
      "text/plain": [
       "{0: array([ 14,  56,  59, 100, 108], dtype=int64),\n",
       " 1: array([34, 38, 55, 66, 74], dtype=int64),\n",
       " 2: array([24, 41, 49, 58, 68], dtype=int64),\n",
       " 3: array([ 4,  8,  9, 10, 11], dtype=int64),\n",
       " 4: array([ 2, 16, 27, 43, 46], dtype=int64),\n",
       " 5: array([36, 40, 47, 54, 76], dtype=int64),\n",
       " 6: array([ 39,  64,  79, 103, 132], dtype=int64),\n",
       " 7: array([ 6, 20, 26, 35, 42], dtype=int64),\n",
       " 8: array([ 3,  5, 32, 51, 62], dtype=int64),\n",
       " 9: array([15, 57, 63, 90, 91], dtype=int64),\n",
       " 10: array([ 7, 12, 44, 52, 72], dtype=int64),\n",
       " 11: array([29, 37, 45, 83, 84], dtype=int64),\n",
       " 12: array([21, 23, 25, 28, 30], dtype=int64),\n",
       " 13: array([17, 18, 19, 22, 33], dtype=int64),\n",
       " 14: array([ 1, 13, 48, 67, 69], dtype=int64)}"
      ]
     },
     "execution_count": 14,
     "metadata": {},
     "output_type": "execute_result"
    }
   ],
   "source": [
    "{group: np.where(cluster == group)[0][:5]+1 for group in range(lda.n_topics)}"
   ]
  },
  {
   "cell_type": "code",
   "execution_count": 15,
   "metadata": {},
   "outputs": [
    {
     "data": {
      "text/plain": [
       "[0, 1, 2, 3, 4, 5, 6, 7, 8, 9, 10, 11, 12, 13, 14]"
      ]
     },
     "execution_count": 15,
     "metadata": {},
     "output_type": "execute_result"
    }
   ],
   "source": [
    "list(range(lda.n_topics))"
   ]
  },
  {
   "cell_type": "code",
   "execution_count": 16,
   "metadata": {},
   "outputs": [
    {
     "data": {
      "text/plain": [
       "array([[0.01111114, 0.01111111, 0.01111111, ..., 0.01111111, 0.01111111,\n",
       "        0.63244714],\n",
       "       [0.00833333, 0.00833333, 0.00833333, ..., 0.00833335, 0.14152862,\n",
       "        0.00833334],\n",
       "       [0.00833333, 0.00833335, 0.34805925, ..., 0.00833334, 0.00833334,\n",
       "        0.00833339],\n",
       "       ...,\n",
       "       [0.10452032, 0.00266667, 0.00266667, ..., 0.00266667, 0.00266667,\n",
       "        0.00266668],\n",
       "       [0.00833333, 0.00833333, 0.00833333, ..., 0.00833333, 0.00833333,\n",
       "        0.00833333],\n",
       "       [0.00833333, 0.00833334, 0.531028  , ..., 0.00833333, 0.00833334,\n",
       "        0.00833334]])"
      ]
     },
     "execution_count": 16,
     "metadata": {},
     "output_type": "execute_result"
    }
   ],
   "source": [
    "lda.transform(df_name)"
   ]
  },
  {
   "cell_type": "code",
   "execution_count": 23,
   "metadata": {},
   "outputs": [
    {
     "data": {
      "text/plain": [
       "[(0, array([0.06666674, 0.06666667, 1.06666649, ..., 0.0666667 , 0.06666667,\n",
       "         0.06666676])),\n",
       " (1, array([0.06666675, 0.06666673, 0.06666667, ..., 0.06666676, 0.06666667,\n",
       "         0.06666691])),\n",
       " (2, array([0.06666677, 0.06666672, 0.06666667, ..., 0.06666667, 0.06666667,\n",
       "         0.06666667])),\n",
       " (3, array([0.06666673, 0.06666668, 0.06666672, ..., 0.06666667, 0.06666667,\n",
       "         0.06666667])),\n",
       " (4, array([0.06666678, 0.06666667, 0.06666673, ..., 0.06666667, 0.06666667,\n",
       "         0.06666667])),\n",
       " (5, array([0.06666677, 0.06666671, 0.06666667, ..., 0.06666667, 0.06666667,\n",
       "         0.06666667])),\n",
       " (6, array([3.91285804, 0.06666667, 0.06666667, ..., 0.06666667, 0.06666667,\n",
       "         0.06666667])),\n",
       " (7, array([0.06666669, 0.06666667, 0.06666667, ..., 0.06666674, 0.06666684,\n",
       "         0.06666667])),\n",
       " (8, array([0.06666668, 0.06666667, 0.06666667, ..., 0.06666667, 0.06666667,\n",
       "         0.06666667])),\n",
       " (9, array([0.0666667 , 0.06666667, 0.06666667, ..., 0.06666667, 0.06666667,\n",
       "         0.06666667])),\n",
       " (10, array([9.81802463e+01, 6.66666667e-02, 6.66667336e-02, ...,\n",
       "         2.06666647e+00, 1.06666649e+00, 1.06666633e+00])),\n",
       " (11, array([0.06666667, 0.06666667, 0.06666667, ..., 0.06666667, 0.06666667,\n",
       "         0.06666667])),\n",
       " (12, array([8.2487214 , 4.0666665 , 0.06666667, ..., 0.06666667, 0.06666667,\n",
       "         0.06666667])),\n",
       " (13, array([0.06666684, 0.06666667, 0.06666667, ..., 0.06666667, 0.06666667,\n",
       "         0.06666667])),\n",
       " (14, array([6.9248401 , 0.06666667, 0.06666667, ..., 0.06666667, 0.06666667,\n",
       "         0.06666667]))]"
      ]
     },
     "execution_count": 23,
     "metadata": {},
     "output_type": "execute_result"
    }
   ],
   "source": [
    "list(enumerate(lda.components_))"
   ]
  }
 ],
 "metadata": {
  "kernelspec": {
   "display_name": "Python 3",
   "language": "python",
   "name": "python3"
  },
  "language_info": {
   "codemirror_mode": {
    "name": "ipython",
    "version": 3
   },
   "file_extension": ".py",
   "mimetype": "text/x-python",
   "name": "python",
   "nbconvert_exporter": "python",
   "pygments_lexer": "ipython3",
   "version": "3.6.3"
  }
 },
 "nbformat": 4,
 "nbformat_minor": 2
}
