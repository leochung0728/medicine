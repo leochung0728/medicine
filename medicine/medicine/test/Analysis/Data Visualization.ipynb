{
 "cells": [
  {
   "cell_type": "code",
   "execution_count": 1,
   "metadata": {
    "collapsed": true
   },
   "outputs": [],
   "source": [
    "import sys\n",
    "sys.path.insert(1, '../../..')"
   ]
  },
  {
   "cell_type": "code",
   "execution_count": 6,
   "metadata": {},
   "outputs": [],
   "source": [
    "from medicine.flask_app import db\n",
    "from medicine.models.medicine import Medicine\n",
    "from medicine.models.alias import Alias\n",
    "from collections import Counter"
   ]
  },
  {
   "cell_type": "code",
   "execution_count": 3,
   "metadata": {},
   "outputs": [
    {
     "data": {
      "text/plain": [
       "'<篇名>本草纲目\\n书名：本草纲目\\n作者：'"
      ]
     },
     "execution_count": 3,
     "metadata": {},
     "output_type": "execute_result"
    }
   ],
   "source": [
    "content = ''\n",
    "\n",
    "with open('../data/本草纲目(簡體).txt', 'r', encoding='utf8') as file:\n",
    "    for line in file:\n",
    "        content += line\n",
    "content[0:20]"
   ]
  },
  {
   "cell_type": "code",
   "execution_count": 7,
   "metadata": {},
   "outputs": [
    {
     "name": "stdout",
     "output_type": "stream",
     "text": [
      "[Alias('膏露'), Alias('瑞露'), Alias('天酒'), Alias('神漿')]\n"
     ]
    }
   ],
   "source": [
    "m = Medicine.query.all()\n",
    "print(m[3].alias)"
   ]
  },
  {
   "cell_type": "code",
   "execution_count": 8,
   "metadata": {},
   "outputs": [
    {
     "data": {
      "text/plain": [
       "[('《名醫别錄》', None),\n",
       " ('《本草拾遺》', None),\n",
       " ('《本草綱目》', None),\n",
       " ('《神農本經》', None),\n",
       " ('KT蒿', '莪蒿')]"
      ]
     },
     "execution_count": 8,
     "metadata": {},
     "output_type": "execute_result"
    }
   ],
   "source": [
    "joindata = db.session.query(Medicine.name, Alias.name).outerjoin(Alias).all()\n",
    "joindata[0:5]"
   ]
  },
  {
   "cell_type": "code",
   "execution_count": 9,
   "metadata": {},
   "outputs": [
    {
     "data": {
      "text/plain": [
       "{'水仙': ['金盞銀台'], '赤龍浴水': [], '鍋蓋': []}"
      ]
     },
     "execution_count": 9,
     "metadata": {},
     "output_type": "execute_result"
    }
   ],
   "source": [
    "keys = set([item[0] for item in joindata])\n",
    "data_dict = dict()\n",
    "\n",
    "for k in keys:\n",
    "    v = [item[1] for item in joindata if item[0] == k]\n",
    "    v = v if v[0] is not None else []\n",
    "    data_dict[k] = v\n",
    "\n",
    "dict(list(data_dict.items())[0:3])"
   ]
  },
  {
   "cell_type": "code",
   "execution_count": null,
   "metadata": {
    "collapsed": true
   },
   "outputs": [],
   "source": []
  },
  {
   "cell_type": "code",
   "execution_count": 10,
   "metadata": {},
   "outputs": [
    {
     "data": {
      "text/plain": [
       "['鍋蓋', '金盞銀台', '水仙', '赤龍浴水', '赤珠']"
      ]
     },
     "execution_count": 10,
     "metadata": {},
     "output_type": "execute_result"
    }
   ],
   "source": [
    "medicines = []\n",
    "\n",
    "for k, v in data_dict.items():\n",
    "    v = v.copy()\n",
    "    v.append(k)\n",
    "    medicines.extend(v)\n",
    "medicines[0:5]"
   ]
  },
  {
   "cell_type": "code",
   "execution_count": 11,
   "metadata": {
    "collapsed": true
   },
   "outputs": [],
   "source": [
    "import numpy as np\n",
    "import pandas as pd\n",
    "\n",
    "df = pd.DataFrame(medicines, columns=[\"item\"])\n",
    "# df.to_csv('./jieba_data/userdict.txt', header=None, index=None, sep=' ', mode='a')"
   ]
  },
  {
   "cell_type": "code",
   "execution_count": null,
   "metadata": {
    "collapsed": true
   },
   "outputs": [],
   "source": []
  },
  {
   "cell_type": "code",
   "execution_count": 13,
   "metadata": {},
   "outputs": [
    {
     "name": "stderr",
     "output_type": "stream",
     "text": [
      "Building prefix dict from D:\\TMU_BigData\\0.專題\\程式\\project(medicine)\\medicine\\medicine\\test\\jieba_data\\dict.txt.big ...\n",
      "Dumping model to file cache C:\\Users\\leoch\\AppData\\Local\\Temp\\jieba.u74bff60d95b469fcc55ef85938850064.cache\n",
      "Loading model cost 1.463 seconds.\n",
      "Prefix dict has been built succesfully.\n"
     ]
    }
   ],
   "source": [
    "import re\n",
    "import jieba\n",
    "\n",
    "jieba.set_dictionary('../jieba_data/dict.txt.big')\n",
    "jieba.load_userdict('../jieba_data/userdict.txt')"
   ]
  },
  {
   "cell_type": "code",
   "execution_count": 15,
   "metadata": {},
   "outputs": [
    {
     "data": {
      "text/plain": [
       "'\\\\[|.|!|/|-|>|<|$|%|^|*|\"|?|\\\\]|||\\\\[|—|！|，|。|？|、|（|）|：|」|「|)|(|【|】|╱|；|\\\\]|=|「|」|‧|（|）|.|~|《|》|∶'"
      ]
     },
     "execution_count": 15,
     "metadata": {},
     "output_type": "execute_result"
    }
   ],
   "source": [
    "signs = ''\n",
    "with open('../jieba_data/punctuation.txt', encoding='utf-8') as f:\n",
    "    signs = f.readlines()\n",
    "    signs = [sign.strip() for sign in signs] \n",
    "\n",
    "signs_str = '|'.join(signs)\n",
    "signs_str = re.sub('(\\[|\\])', r'\\\\\\1', signs_str)\n",
    "signs_str"
   ]
  },
  {
   "cell_type": "code",
   "execution_count": 16,
   "metadata": {
    "collapsed": true,
    "scrolled": true
   },
   "outputs": [],
   "source": [
    "lines = re.split(',|，|。|;|【|】|\\n|\\u3000', content)\n",
    "lines = [re.sub('['+signs_str+']', ' ', line).strip() for line in lines]\n",
    "lines = [line for line in lines if line.strip() != '']"
   ]
  },
  {
   "cell_type": "code",
   "execution_count": 17,
   "metadata": {},
   "outputs": [
    {
     "data": {
      "text/plain": [
       "282168"
      ]
     },
     "execution_count": 17,
     "metadata": {},
     "output_type": "execute_result"
    }
   ],
   "source": [
    "len(lines)\n",
    "# lines"
   ]
  },
  {
   "cell_type": "code",
   "execution_count": 18,
   "metadata": {},
   "outputs": [
    {
     "data": {
      "text/plain": [
       "955741"
      ]
     },
     "execution_count": 18,
     "metadata": {},
     "output_type": "execute_result"
    }
   ],
   "source": [
    "cut_result = []\n",
    "for line in lines:\n",
    "    cut_list = jieba.cut(line, cut_all=False)\n",
    "    cut_result.extend(cut_list)\n",
    "len(cut_result)"
   ]
  },
  {
   "cell_type": "code",
   "execution_count": 19,
   "metadata": {
    "collapsed": true
   },
   "outputs": [],
   "source": [
    "cut_result = []\n",
    "cut_list = jieba.cut(content, cut_all=False)\n",
    "cut_result.extend(cut_list)\n"
   ]
  },
  {
   "cell_type": "code",
   "execution_count": null,
   "metadata": {
    "collapsed": true
   },
   "outputs": [],
   "source": [
    "# cut_result"
   ]
  },
  {
   "cell_type": "code",
   "execution_count": 20,
   "metadata": {
    "collapsed": true
   },
   "outputs": [],
   "source": [
    "from collections import Counter\n",
    "\n",
    "count_dict = Counter(cut_result)"
   ]
  },
  {
   "cell_type": "code",
   "execution_count": 21,
   "metadata": {
    "collapsed": true
   },
   "outputs": [],
   "source": [
    "medicine_count = dict()\n",
    "\n",
    "for k, v in data_dict.items():\n",
    "    v = v.copy()\n",
    "    v.append(k)\n",
    "    medicine_count[k] = [{k:count_dict[k]} for k in v]\n",
    "    \n",
    "# medicine_count"
   ]
  },
  {
   "cell_type": "code",
   "execution_count": 22,
   "metadata": {
    "collapsed": true
   },
   "outputs": [],
   "source": [
    "wc_content_list = []\n",
    "wc_content = ''\n",
    "\n",
    "for k, v in data_dict.items():\n",
    "    v = v.copy()\n",
    "    v.append(k)\n",
    "    num_list = [count_dict[k] for k in v]\n",
    "    num = sum(num_list)\n",
    "    wc_content_list.extend([k] * num)\n",
    "        \n",
    "    \n",
    "wc_content = ' '.join(wc_content_list)\n",
    "# wc_content"
   ]
  },
  {
   "cell_type": "code",
   "execution_count": 23,
   "metadata": {
    "collapsed": true
   },
   "outputs": [],
   "source": [
    "from PIL import Image\n",
    "from path import Path as path\n",
    "import matplotlib.pyplot as plt\n",
    "from wordcloud import WordCloud"
   ]
  },
  {
   "cell_type": "code",
   "execution_count": 25,
   "metadata": {},
   "outputs": [
    {
     "data": {
      "text/plain": [
       "<wordcloud.wordcloud.WordCloud at 0x1f484f79da0>"
      ]
     },
     "execution_count": 25,
     "metadata": {},
     "output_type": "execute_result"
    }
   ],
   "source": [
    "img_mask = np.array(Image.open('../data/李時珍.jpg'))\n",
    "font = r'C:/Windows/Fonts/msjh.ttc'\n",
    "\n",
    "wc = WordCloud(background_color=None,\n",
    "               mode='RGBA',\n",
    "               mask=img_mask,\n",
    "               collocations=False,\n",
    "               font_path=font,\n",
    "               width=400,\n",
    "               height=200,\n",
    "               margin=2)\n",
    "\n",
    "wc.generate(wc_content)\n"
   ]
  },
  {
   "cell_type": "code",
   "execution_count": 26,
   "metadata": {
    "scrolled": false
   },
   "outputs": [
    {
     "data": {
      "image/png": "[encoded data removed]",
      "text/plain": [
       "<matplotlib.figure.Figure at 0x1f484f6d2e8>"
      ]
     },
     "metadata": {},
     "output_type": "display_data"
    }
   ],
   "source": [
    "plt.imshow(wc)\n",
    "plt.axis(\"off\")\n",
    "plt.show()"
   ]
  },
  {
   "cell_type": "code",
   "execution_count": 27,
   "metadata": {},
   "outputs": [
    {
     "data": {
      "text/plain": [
       "<wordcloud.wordcloud.WordCloud at 0x1f484f79da0>"
      ]
     },
     "execution_count": 27,
     "metadata": {},
     "output_type": "execute_result"
    }
   ],
   "source": [
    "wc.to_file('./wordcloud.png')"
   ]
  },
  {
   "cell_type": "code",
   "execution_count": null,
   "metadata": {},
   "outputs": [],
   "source": [
    "medicine_count"
   ]
  },
  {
   "cell_type": "code",
   "execution_count": null,
   "metadata": {},
   "outputs": [],
   "source": [
    "totle = len(wc_content_list)\n",
    "temp = Counter(wc_content_list)\n",
    "temp.most_common(5)\n"
   ]
  },
  {
   "cell_type": "code",
   "execution_count": null,
   "metadata": {},
   "outputs": [],
   "source": [
    "1311/totle"
   ]
  }
 ],
 "metadata": {
  "kernelspec": {
   "display_name": "Python 3",
   "language": "python",
   "name": "python3"
  },
  "language_info": {
   "codemirror_mode": {
    "name": "ipython",
    "version": 3
   },
   "file_extension": ".py",
   "mimetype": "text/x-python",
   "name": "python",
   "nbconvert_exporter": "python",
   "pygments_lexer": "ipython3",
   "version": "3.6.3"
  }
 },
 "nbformat": 4,
 "nbformat_minor": 2
}
