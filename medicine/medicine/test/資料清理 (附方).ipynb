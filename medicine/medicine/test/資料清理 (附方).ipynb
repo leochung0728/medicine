{
 "cells": [
  {
   "cell_type": "code",
   "execution_count": 1,
   "metadata": {
    "collapsed": true
   },
   "outputs": [],
   "source": [
    "import sys\n",
    "sys.path.insert(1, '../..')\n",
    "import os\n",
    "import re\n",
    "import pandas as pd\n",
    "from collections import Counter\n",
    "from medicine import config\n",
    "# from medicine.script.data_process import DataProcess"
   ]
  },
  {
   "cell_type": "code",
   "execution_count": 2,
   "metadata": {},
   "outputs": [
    {
     "data": {
      "text/plain": [
       "Index(['目錄', '篇名', '釋名', '內容', '部位', '部位內容', '主治', '氣味', '附方'], dtype='object')"
      ]
     },
     "execution_count": 2,
     "metadata": {},
     "output_type": "execute_result"
    }
   ],
   "source": [
    "file_path = os.path.join(config.Path['data_dir'], '本草纲目(簡體)_Ver2.csv')\n",
    "data = pd.read_csv(file_path, index_col=[0], engine='python', encoding='utf-8-sig')\n",
    "data.columns"
   ]
  },
  {
   "cell_type": "code",
   "execution_count": 3,
   "metadata": {},
   "outputs": [
    {
     "data": {
      "text/plain": [
       "11    旧一，新一。辟禳时疫∶半天河水，饮之。（《医林集要》）身体白驳∶取树木 \\n孔中水洗之，捣桂...\n",
       "12                                                  NaN\n",
       "Name: 附方, dtype: object"
      ]
     },
     "execution_count": 3,
     "metadata": {},
     "output_type": "execute_result"
    }
   ],
   "source": [
    "compounds = data.loc[:,'附方']\n",
    "compounds[11:13]"
   ]
  },
  {
   "cell_type": "markdown",
   "metadata": {},
   "source": [
    "##### 觀察附方起始文字，並予以清理 (略)\n",
    "1. 旧一，新一。\n",
    "2. 新一。\n",
    "3. 旧一。\n",
    "4. 新入。\n",
    "5. （原缺）"
   ]
  },
  {
   "cell_type": "code",
   "execution_count": null,
   "metadata": {
    "collapsed": true,
    "scrolled": true
   },
   "outputs": [],
   "source": [
    "# num_pattern = r'[一二三四五六七八九十]'\n",
    "# old_pattern = r'旧' + num_pattern + r'{1,3}[\\s。]*'\n",
    "# new_pattern = r'新' + num_pattern + r'{1,3}[\\s。]*'\n",
    "# pattern = old_pattern + '.{1,2}' + new_pattern + \\\n",
    "#     '|' + old_pattern + \\\n",
    "#     '|' + new_pattern + \\\n",
    "#     '|' + '（原缺）' + \\\n",
    "#     '|' + '新入[\\s。]*'\n",
    "# # print(pattern)\n",
    "\n",
    "# for i in range(len(compounds)):\n",
    "#     compound = compounds[i]\n",
    "#     if pd.isnull(compound):\n",
    "#         continue\n",
    "#     compound = compound.strip()\n",
    "# #     # for test\n",
    "# #     match = re.match(pattern, compound)\n",
    "# #     if match:\n",
    "# #         print(match.group())\n",
    "# #         print(re.sub(pattern, '', compound) + '\\n')\n",
    "# #         pass\n",
    "# #     else:\n",
    "# #         print(re.sub(pattern, '', compound) + '\\n')\n",
    "#     compounds[i] = re.sub(pattern, '', compound)\n"
   ]
  },
  {
   "cell_type": "code",
   "execution_count": 4,
   "metadata": {
    "scrolled": false
   },
   "outputs": [
    {
     "name": "stdout",
     "output_type": "stream",
     "text": [
      "5584\n"
     ]
    }
   ],
   "source": [
    "d_len = 2\n",
    "u_len = 35\n",
    "# pattern = r'[。）》]{1,3}( ?\\w{0,3} ?\\n? ?\\w{0,8}?[ ，、]{0,2}\\w{1,11})∶'\n",
    "# pattern = r'[。）》]{1,3}((?: ?\\w{1,20}[，、]?\\n?)?\\\n",
    "# (?:(?:\\w+[，、]?){0,2}\\n?){0,3}\\w{1,11})∶'\n",
    "# pattern = r'[。）》]{1,3}((?: ?\\w{1,20}[ ，、]?\\n?)?\\\n",
    "# (?:(?:\\w+[，、]){0,2} ?\\n?){0,3}\\w{1,11})∶'\n",
    "pattern = r'[。）》]((?: ?\\w{0,10}[ ，、]?\\n?){0,1}\\\n",
    "(?: ?\\w{0,2}[，、] \\n){0,2}\\\n",
    "(?:(?:\\w+[，、]){1,3} ?\\n?){0,3}\\w{1,11})∶'\n",
    "\n",
    "\n",
    "find_list = []\n",
    "for compound in compounds:\n",
    "    if pd.isnull(compound):\n",
    "        continue\n",
    "    finds = re.findall(pattern, compound)\n",
    "    if len(finds) > 0:\n",
    "        finds = [re.sub(r'\\s', '', find) for find in finds]\n",
    "        find_list.extend(finds)\n",
    "find_list = [find for find in find_list if  d_len <= len(find) <= u_len]\n",
    "print(len(set(find_list)))\n",
    "# print(Counter(find_list))\n",
    "# set(find_list)"
   ]
  },
  {
   "cell_type": "code",
   "execution_count": 31,
   "metadata": {},
   "outputs": [
    {
     "data": {
      "text/plain": [
       "{'一云',\n",
       " '一切下血',\n",
       " '一切丹毒',\n",
       " '一切冷漏',\n",
       " '一切反胃',\n",
       " '一切口疮',\n",
       " '一切壅滞',\n",
       " '一切头疮',\n",
       " '一切心痛',\n",
       " '一切恶疮',\n",
       " '一切折伤',\n",
       " '一切毒肿',\n",
       " '一切气痛',\n",
       " '一切泄痢',\n",
       " '一切泻痢',\n",
       " '一切漏疮',\n",
       " '一切漏疮有孔',\n",
       " '一切漏疾',\n",
       " '一切疔疮',\n",
       " '一切疔肿',\n",
       " '一切疮',\n",
       " '一切疮疖',\n",
       " '一切疮肿',\n",
       " '一切疳毒',\n",
       " '一切疳疮',\n",
       " '一切疳疾',\n",
       " '一切痈疮',\n",
       " '一切痈疽',\n",
       " '一切痈肿',\n",
       " '一切痈肿未溃',\n",
       " '一切痢下',\n",
       " '一切癣',\n",
       " '一切盗汗',\n",
       " '一切目疾',\n",
       " '一切眼疾',\n",
       " '一切眼翳',\n",
       " '一切积病',\n",
       " '一切积痢',\n",
       " '一切肿毒',\n",
       " '一切肿毒初起',\n",
       " '一切肿疾',\n",
       " '一切虚风',\n",
       " '一切虫病',\n",
       " '一切诸毒',\n",
       " '一切诸风',\n",
       " '一切顽风',\n",
       " '一切风疾',\n",
       " '一切风痰',\n",
       " '一切风证',\n",
       " '一切香港脚',\n",
       " '一剪金',\n",
       " '一方',\n",
       " '一法',\n",
       " '一粒金丹'}"
      ]
     },
     "execution_count": 31,
     "metadata": {},
     "output_type": "execute_result"
    }
   ],
   "source": [
    "finds = []\n",
    "for find in find_list:\n",
    "    if re.search('^一.{0,5}$', find):\n",
    "        finds.append(find)\n",
    "set(finds)"
   ]
  },
  {
   "cell_type": "code",
   "execution_count": 5,
   "metadata": {},
   "outputs": [
    {
     "name": "stdout",
     "output_type": "stream",
     "text": [
      "[。）》]((?: ?\\w{0,10}[ ，、]?\\n?){0,1}(?: ?\\w{0,2}[，、] \\n){0,2}(?:(?:\\w+[，、]){1,3} ?\\n?){0,3}\\w{1,11})∶\n"
     ]
    }
   ],
   "source": [
    "print(pattern)"
   ]
  },
  {
   "cell_type": "code",
   "execution_count": 6,
   "metadata": {},
   "outputs": [
    {
     "name": "stdout",
     "output_type": "stream",
     "text": [
      "新一。灭瘢痕∶以冻凌频熨之，良。（《千金方》）\n",
      "[('灭瘢痕', '以冻凌频熨之，良。（《千金方》）')]\n",
      "\n",
      "旧一，新一。辟禳时疫∶半天河水，饮之。（《医林集要》）身体白驳∶取树木 \n",
      "孔中水洗之，捣桂末唾和敷之，日再上。（张文仲《备急方》）\n",
      "[('辟禳时疫', '半天河水，饮之。（《医林集要》）'), ('身体白驳', '取树木孔中水洗之，捣桂末唾和敷之，日再上。（张文仲《备急方》）')]\n",
      "\n"
     ]
    }
   ],
   "source": [
    "compound_join = '|'.join(find_list)\n",
    "pattern = '(' + compound_join + ')∶' + '(.*?)' + '(?=(?=(?:' + compound_join + ')∶)|(?<=.$))'\n",
    "\n",
    "count = 0\n",
    "for compound in compounds:\n",
    "    if pd.isnull(compound):\n",
    "        continue\n",
    "    finds = re.findall(pattern, re.sub('\\s', '', compound))\n",
    "    if len(finds) > 0:\n",
    "        print(compound.strip())\n",
    "        print(finds)\n",
    "        print()\n",
    "        \n",
    "    count += 1\n",
    "    if count > 2:\n",
    "        break\n"
   ]
  },
  {
   "cell_type": "code",
   "execution_count": 7,
   "metadata": {
    "collapsed": true
   },
   "outputs": [],
   "source": [
    "compound_df = pd.DataFrame(columns=['title', 'compound', 'content'])\n",
    "compound_join = '|'.join(find_list)\n",
    "pattern = '(' + compound_join + ')∶' + '(.*?)' + '(?=(?=(?:' + compound_join + ')∶)|(?<=.$))'\n",
    "\n",
    "previous_title = None\n",
    "for index, row in data.iterrows():\n",
    "    title = row['篇名']\n",
    "    compound = row['附方']\n",
    "    if title == previous_title or pd.isnull(compound):\n",
    "        continue\n",
    "    else:\n",
    "        previous_title = title\n",
    "    finds = re.findall(pattern, re.sub('\\s', '', compound))\n",
    "    if len(finds) == 0:\n",
    "        continue\n",
    "    for find in finds:\n",
    "        df_row = dict((k, '') for k in compound_df.columns)\n",
    "        df_row['title'] = title\n",
    "        df_row['compound'] = find[0]\n",
    "        df_row['content'] = find[1]\n",
    "        compound_df = compound_df.append(df_row, ignore_index=True)\n",
    "    \n"
   ]
  },
  {
   "cell_type": "code",
   "execution_count": 8,
   "metadata": {},
   "outputs": [
    {
     "data": {
      "text/html": [
       "<div>\n",
       "<style scoped>\n",
       "    .dataframe tbody tr th:only-of-type {\n",
       "        vertical-align: middle;\n",
       "    }\n",
       "\n",
       "    .dataframe tbody tr th {\n",
       "        vertical-align: top;\n",
       "    }\n",
       "\n",
       "    .dataframe thead th {\n",
       "        text-align: right;\n",
       "    }\n",
       "</style>\n",
       "<table border=\"1\" class=\"dataframe\">\n",
       "  <thead>\n",
       "    <tr style=\"text-align: right;\">\n",
       "      <th></th>\n",
       "      <th>title</th>\n",
       "      <th>compound</th>\n",
       "      <th>content</th>\n",
       "    </tr>\n",
       "  </thead>\n",
       "  <tbody>\n",
       "    <tr>\n",
       "      <th>0</th>\n",
       "      <td>夏冰\\n</td>\n",
       "      <td>灭瘢痕</td>\n",
       "      <td>以冻凌频熨之，良。（《千金方》）</td>\n",
       "    </tr>\n",
       "    <tr>\n",
       "      <th>1</th>\n",
       "      <td>半天河\\n</td>\n",
       "      <td>辟禳时疫</td>\n",
       "      <td>半天河水，饮之。（《医林集要》）</td>\n",
       "    </tr>\n",
       "    <tr>\n",
       "      <th>2</th>\n",
       "      <td>半天河\\n</td>\n",
       "      <td>身体白驳</td>\n",
       "      <td>取树木孔中水洗之，捣桂末唾和敷之，日再上。（张文仲《备急方》）</td>\n",
       "    </tr>\n",
       "  </tbody>\n",
       "</table>\n",
       "</div>"
      ],
      "text/plain": [
       "   title compound                          content\n",
       "0   夏冰\\n      灭瘢痕                 以冻凌频熨之，良。（《千金方》）\n",
       "1  半天河\\n     辟禳时疫                 半天河水，饮之。（《医林集要》）\n",
       "2  半天河\\n     身体白驳  取树木孔中水洗之，捣桂末唾和敷之，日再上。（张文仲《备急方》）"
      ]
     },
     "execution_count": 8,
     "metadata": {},
     "output_type": "execute_result"
    }
   ],
   "source": [
    "# file_path = os.path.join(config.Path['data_dir'], '本草纲目(簡體)_Ver3.csv')\n",
    "# compound_df.to_csv(file_path, encoding='utf-8-sig')\n",
    "\n",
    "compound_df.head(3)"
   ]
  },
  {
   "cell_type": "markdown",
   "metadata": {},
   "source": [
    "#### 去找尋附方內文中符合藥草名稱的pattern\n",
    "#### <font color='red'>效果不佳</font>"
   ]
  },
  {
   "cell_type": "code",
   "execution_count": 14,
   "metadata": {
    "scrolled": true
   },
   "outputs": [
    {
     "name": "stderr",
     "output_type": "stream",
     "text": [
      "F:\\Python\\anaconda3\\lib\\site-packages\\sqlalchemy\\engine\\default.py:470: Warning: (1366, \"Incorrect string value: '\\\\xA5x\\\\xA5_\\\\xBC\\\\xD0...' for column 'VARIABLE_VALUE' at row 480\")\n",
      "  cursor.execute(statement, parameters)\n"
     ]
    }
   ],
   "source": [
    "from medicine.models.medicine import Medicine\n",
    "from medicine.models.alias import Alias \n",
    "\n",
    "medicine_all = Medicine.query.all()\n",
    "alias_all = Alias.query.all()\n",
    "\n",
    "name_list = list()\n",
    "for name_len in list(range(9, 1 , -1)):\n",
    "    m_list = set([m_name.name for m_name in medicine_all if len(m_name.name) == name_len])\n",
    "    name_list.extend(m_list)\n",
    "    a_list = set([a_name.name for a_name in alias_all if len(a_name.name) == name_len])\n",
    "    name_list.extend(a_list)\n",
    "\n",
    "name_join = '|'.join(name_list)\n",
    "pattern = '(?=(' + name_join + '))'\n",
    "for index, row in compound_df.iterrows():\n",
    "    content = re.sub('\\s', '', row['content'])\n",
    "    match = re.search('（\\w{0,3}《?\\w{2,8}》?）|《\\w{2,8}》', content)\n",
    "    if match:\n",
    "        content = re.sub('（\\w{0,3}《?\\w{2,8}》?）|《\\w{2,8}》', '', row['content'])\n",
    "    find = re.findall(pattern, re.sub('\\s', '', content))\n",
    "#     print(row['title'], row['compound'], '\\n', row['content'], '\\n', set(find), '\\n',)\n",
    "#     print(row['compound'], '\\n')\n",
    "\n"
   ]
  },
  {
   "cell_type": "code",
   "execution_count": null,
   "metadata": {
    "collapsed": true
   },
   "outputs": [],
   "source": []
  },
  {
   "cell_type": "code",
   "execution_count": null,
   "metadata": {
    "collapsed": true
   },
   "outputs": [],
   "source": [
    "medicine_all = Medicine.query.all()\n",
    "# m_set = set([medicine for medicine in medicine_all if len(medicine.name) == 1])\n",
    "# sorted(m_set, key=lambda Medicine: Medicine.radical)\n",
    "\n",
    "# [medicine for medicine in medicine_all if medicine.radical in ['草'] and len(medicine.name) == 1]\n",
    "sorted([medicine for medicine in medicine_all if len(medicine.name) == 1], key=lambda Medicine: Medicine.radical)"
   ]
  }
 ],
 "metadata": {
  "kernelspec": {
   "display_name": "Python 3",
   "language": "python",
   "name": "python3"
  },
  "language_info": {
   "codemirror_mode": {
    "name": "ipython",
    "version": 3
   },
   "file_extension": ".py",
   "mimetype": "text/x-python",
   "name": "python",
   "nbconvert_exporter": "python",
   "pygments_lexer": "ipython3",
   "version": "3.6.3"
  }
 },
 "nbformat": 4,
 "nbformat_minor": 2
}
