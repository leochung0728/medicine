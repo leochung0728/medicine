{
 "cells": [
  {
   "cell_type": "code",
   "execution_count": 1,
   "metadata": {
    "collapsed": true
   },
   "outputs": [],
   "source": [
    "import os\n",
    "import re\n",
    "import sys\n",
    "sys.path.insert(1, '../..')\n",
    "import pandas as pd"
   ]
  },
  {
   "cell_type": "code",
   "execution_count": 2,
   "metadata": {},
   "outputs": [],
   "source": [
    "from medicine import config\n",
    "from medicine.models.compound import Compound\n",
    "from medicine.models.medicine import Medicine"
   ]
  },
  {
   "cell_type": "code",
   "execution_count": 3,
   "metadata": {},
   "outputs": [
    {
     "name": "stderr",
     "output_type": "stream",
     "text": [
      "F:\\Python\\anaconda3\\lib\\site-packages\\sqlalchemy\\engine\\default.py:470: Warning: (1366, \"Incorrect string value: '\\\\xA5x\\\\xA5_\\\\xBC\\\\xD0...' for column 'VARIABLE_VALUE' at row 480\")\n",
      "  cursor.execute(statement, parameters)\n"
     ]
    }
   ],
   "source": [
    "compound_list = []\n",
    "for compound in Compound.query.all():\n",
    "    medicine_list = [medicine.name for medicine in compound.medicine]\n",
    "    compound_list.append(medicine_list)"
   ]
  },
  {
   "cell_type": "code",
   "execution_count": 4,
   "metadata": {
    "scrolled": false
   },
   "outputs": [
    {
     "name": "stdout",
     "output_type": "stream",
     "text": [
      "['滅瘢痕', '闢禳時疫', '身體白駁', '目不得瞑', '汗後奔豚']\n"
     ]
    }
   ],
   "source": [
    "compounds = Compound.query.all()\n",
    "c_names = [c.name for c in Compound.query.all()]\n",
    "print(c_names[0:5])"
   ]
  },
  {
   "cell_type": "code",
   "execution_count": 51,
   "metadata": {},
   "outputs": [
    {
     "name": "stderr",
     "output_type": "stream",
     "text": [
      "Building prefix dict from D:\\TMU_BigData\\0.專題\\程式\\project(medicine)\\medicine\\medicine\\test\\jieba_data\\dict.txt.big ...\n",
      "Loading model from cache C:\\Users\\leoch\\AppData\\Local\\Temp\\jieba.u74bff60d95b469fcc55ef85938850064.cache\n",
      "Loading model cost 1.278 seconds.\n",
      "Prefix dict has been built succesfully.\n"
     ]
    }
   ],
   "source": [
    "import jieba\n",
    "jieba.set_dictionary('./jieba_data/dict.txt.big')\n",
    "jieba.load_userdict('./jieba_data/userdict_compound.txt')"
   ]
  },
  {
   "cell_type": "code",
   "execution_count": 58,
   "metadata": {
    "scrolled": false
   },
   "outputs": [
    {
     "name": "stdout",
     "output_type": "stream",
     "text": [
      "['風', '病', '耳鳴'] 風病耳鳴\n",
      "['竹木', '木骨', '哽'] 竹木骨哽\n",
      "['痞塊', '有', '積'] 痞塊有積\n",
      "['風', '毒', '腳氣', '痹', '弱'] 風毒腳氣痹弱\n",
      "['鄭', '師', '甫', '雲'] 鄭師甫雲\n",
      "['婦人', '勞', '熱心', '忪'] 婦人勞熱心忪\n",
      "['肺', '虛', '久', '嗽'] 肺虛久嗽\n",
      "['腫', '滿', '氣急', '不得', '卧'] 腫滿氣急不得卧\n",
      "['男子', '陰', '易'] 男子陰易\n",
      "['卒', '患', '心痛'] 卒患心痛\n",
      "['小兒', '生瘡', '', '', '滿身', '面如', '火燒'] 小兒生瘡，滿身面如火燒\n",
      "['小便', '轉', '脬'] 小便轉脬\n",
      "['老人', '洩', '瀉', '不止'] 老人洩瀉不止\n",
      "['五', '般', '急', '黃'] 五般急黃\n",
      "['誤吞', '銅錢'] 誤吞銅錢\n",
      "['天', '行', '虜', '瘡'] 天行虜瘡\n",
      "['嬰兒', '赤', '目'] 嬰兒赤目\n",
      "['鼻', '氣', '壅塞'] 鼻氣壅塞\n",
      "['妊娠', '吐', '水', '', '', '酸心', '心腹', '腹痛', '', '', '不能', '飲食'] 妊娠吐水，酸心腹痛，不能飲食\n",
      "['小兒', '内', '釣', '腹痛'] 小兒内釣腹痛\n"
     ]
    }
   ],
   "source": [
    "jieba.load_userdict('./jieba_data/userdict_compound.txt')\n",
    "n = 3\n",
    "for c_name in list(set(c_names))[20*n:20*(n+1)]:\n",
    "    print(list(jieba.cut(c_name, cut_all=True, HMM=True)), c_name)"
   ]
  }
 ],
 "metadata": {
  "kernelspec": {
   "display_name": "Python 3",
   "language": "python",
   "name": "python3"
  },
  "language_info": {
   "codemirror_mode": {
    "name": "ipython",
    "version": 3
   },
   "file_extension": ".py",
   "mimetype": "text/x-python",
   "name": "python",
   "nbconvert_exporter": "python",
   "pygments_lexer": "ipython3",
   "version": "3.6.3"
  }
 },
 "nbformat": 4,
 "nbformat_minor": 2
}
